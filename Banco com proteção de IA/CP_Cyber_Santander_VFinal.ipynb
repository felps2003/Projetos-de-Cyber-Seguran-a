{
  "nbformat": 4,
  "nbformat_minor": 0,
  "metadata": {
    "colab": {
      "provenance": []
    },
    "kernelspec": {
      "name": "python3",
      "display_name": "Python 3"
    },
    "language_info": {
      "name": "python"
    },
    "accelerator": "GPU",
    "gpuClass": "standard"
  },
  "cells": [
    {
      "cell_type": "markdown",
      "source": [
        "#**CheckPoint de CyberSegurança**\n",
        "##**Missão**: Construir uma aplicação que funcione como se fosse um cadastro de uma pessoa em um app de banco, ou seja construir uma forma da IA entender o que tem na self tirada pelo usuario.\n",
        "---\n",
        "###**Objetivos** para aprovação do cadastro:\n",
        "*   Realizar o Captcha\n",
        "*   Ter duas pessoas na self ou Self segurando uma (maçã,caneta ou um relogio) \n",
        "---\n",
        "####**Resumo da Finalização:** Após construir a aplicação, percebi alguns erros ao subir a imagem no Streamlit, eu consigo subir arquivos que sejam menores que (7Kb), percebi que esse erro erá do proprio Ngrok ou Streamlit, que dizia aceitar arquivos de até 200mb, entretanto só estava conseguindo receber menores. Mas ao identificar esse erro, eu fiz um tratamento nas imagens de teste as deixando com menos de (7Kb), para poder testar a acuracia do programa, decidi utilizar o Detectron2, ou sejá uma IA já treinada, consegui com exito otimos resultados.\n",
        "\n",
        "**Erro encontrado**: ( Error: Request failed with status code 500 \n",
        ")\n",
        "\n",
        "**Soluação**: Realizar o Deploy em plataformas como o Heroku\n",
        "\n",
        "\n",
        "---\n",
        "##Caixas de resposta:\n",
        "\n",
        "Primeira caixa, ela aparece enquanto o usuario não digitar o Captcha, ou digitar errado:\n",
        "\n",
        "![image.png](data:image/png;base64,iVBORw0KGgoAAAANSUhEUgAAAL0AAAA4CAYAAACoqvlbAAAAAXNSR0IArs4c6QAAAARnQU1BAACxjwv8YQUAAAAJcEhZcwAADsMAAA7DAcdvqGQAAAKNSURBVHhe7du7ihRBFMbxnk1lFSMjA1MjH0DwJXxMX0LwMQxMxUgWxWhXTrkFh0NVdVdvX8r5/j+YoS+nLjP1bTHMMpfnL189vHk9TS9uHyZAwY093T4j8NCRQn+TngENxB1yCD3kEHrIIfSQQ+ghh9BDDqGHHEIPOYQecgg95BB6yCH0kEPoIYfQQw6hhxxCDzmEHnIOD/3nL5/SY6neemBO+mH4u7dP/41sLZgf3n98PPon18XrNb31eym9vjPnNMr78j/afKe3RcgPE8Pi7y1Rqi8FcE8+YL3z73H061K168ebvcJxpNqOeg2vTdXmH29iGOL1Ul1th7MaX1+qi/1mvv8SX9+qtbq5vkxr/NxHrSZeN7F9FtvEfn07UxtT2e6hN3avtFim99z4/sySmqyn1rTuZbEmjlEb08RrS/vJx8bf7+lP1RBfWfpFWLsgPe1KtT5EvWJ/S+aydL6+zo7nxir9MWTxXNUQofcLtTZ81s4/emwVhrXj723UeZ1l99DPvdE5cH5R1oTQ2sTHUfLczxi7ZdR5ne2Qnb71ZsdFOWNhbA4tc/dN77yX9LmFM97P0e0a+qMW1sSxWmOX7tXCka+X+q+N0RrbWxLI0rhrPaXtNRniP7KltjFstfpWP3Fsr9ZHTWuOJvZn5/n+XNusNKfYNl73/bSuGbtu5/6+os1Cv1ZtEa5pcUphxHmG+PYm8rsTsLXTd3oTQ35tOyI7/ViGCD1wpCE/3gB7IvSQQ+ghh9BDDqGHHEIPOYQecgg95BB6yCH0kEPoIYfQQw6hhxxCDzkp9Pf36RiQkEJ/9+uSTgAFKfTff7DbQ0cK/e8/0/T122X6eXch/Lh66eeCj8eABL69gZhp+gt/x3y0W178hQAAAABJRU5ErkJggg==)\n",
        "\n",
        "Caixa após acertar o Captcha:\n",
        "\n",
        "![image.png](data:image/png;base64,iVBORw0KGgoAAAANSUhEUgAAAOkAAAA3CAYAAADpA228AAAAAXNSR0IArs4c6QAAAARnQU1BAACxjwv8YQUAAAAJcEhZcwAADsMAAA7DAcdvqGQAAANeSURBVHhe7dzNbhNBDMDxQAUS4kPqiQMvwCP0gMSzI3HgObhzASFAkAJeYsmy5sOzO5uY9v+TmmZnPB5nd51EPfTBi+uXvx+/ena4ev7oACCfh/Jw9ZQGBbJamvT0CCAh2hNIjiYFkqNJgeRoUiA5mhRIjiYFkqNJgeRoUiA5mhRIjiYFkqNJgeRoUiA5mhRIjiYFkqNJgeRoUiA5mhRI7l426Yf3707PcFfc5Wu6/COyJ6+vT4fr1U7SzZu3p2f70H2j+0j83jWtUTp/l6xz9LxeUtZrOsv0T1I5WfojSjffpWRvUH/uZst0LUbVar/kNT3X+dz16262hshWj7ANamWsNaP7cJ6mf931J82+0/l3HhurcTYmuq7ExojRvUUrh5/zorG6d0+rNs1Ri/Hjwq9Xfo3Pa9eJ2p4lvdhWHVZtrrW3KOUXrTwyJ8elOqxavl5NEWdrUv2tfHxvvYqsi8ZE50UvXkVyWa055WP8HrU9hR+L5tHnws6P5LNKc3a9fy5qsaJ0LOyY8nP2uLTO5u7l9etELddau37d1aKFLzRa+Jp1pZjofpat35JcrXyluVquCJ8v8loiMcLGyfPeXluuaW9eSdxorpF4n7+3dkQp15ZrL6Y3qRSkP8IX7eej1q5Tdv3WHKNm3QRb699LtC4bV4qtjbe08kXZHFvylMy49rv+ddcWqCegNNeydp1n16/JY9dpTecy6xzMNlqXjfPxdkzztozu3WJzbM21h12/7nprX/zout4F3mp2PZF6s50DtccNHc25x96zzbgOZ21Sa23x0XX+Avp1o/uPxJdiazeUjpfqq+0ZrSVyE5f2Xau3trXXln3FzL231FJau/XNZPe/7lr2BUicHPubtLS+t07HVCmHsDHC5hB2nR3z60RtDxWpx+rt4fPJsc5H6yvV5Nf6cZunNSZkXI7tvFfaz48Jn8PvI0b2Lu1r1eZ1vJTX769q42tNa1JcTutGwv/vYl93AcTQpEByfN0FkuOTFEiOJgWSo0mB5GhSIDmaFEiOJgWSo0mB5GhSIDmaFEiOJgWSo0mB5GhSIDmaFEiOJgWS+9ekt8sjgISWJj1+/bkcAMhnadJfn77xaQoktTTp7ffj4cfHz4fjl7+fqDQrkMry71NOzwGkczj8AWzThbRkyHJuAAAAAElFTkSuQmCC)\n",
        "\n",
        "Caixa que indica, que a foto passou pelos criterios de aprovação da IA:\n",
        "\n",
        "![image.png](data:image/png;base64,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)\n",
        "\n",
        "Caixa que indica, que a foto não conseguiu passar pelos criterios de aprovação da IA:\n",
        "\n",
        "j![image.png](data:image/png;base64,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)\n",
        "\n",
        "---"
      ],
      "metadata": {
        "id": "XEq680nN0sMG"
      }
    },
    {
      "cell_type": "markdown",
      "source": [
        "#Imports para o Detectron 2\n"
      ],
      "metadata": {
        "id": "s-qv-dBzOoH1"
      }
    },
    {
      "cell_type": "code",
      "source": [
        "!pip install pyyaml==5.1"
      ],
      "metadata": {
        "colab": {
          "base_uri": "https://localhost:8080/"
        },
        "id": "TF6QgGhqOzQ8",
        "outputId": "46f7ae95-6831-441d-ec9d-39b4a79851ef"
      },
      "execution_count": 1,
      "outputs": [
        {
          "output_type": "stream",
          "name": "stdout",
          "text": [
            "Looking in indexes: https://pypi.org/simple, https://us-python.pkg.dev/colab-wheels/public/simple/\n",
            "Collecting pyyaml==5.1\n",
            "  Downloading PyYAML-5.1.tar.gz (274 kB)\n",
            "\u001b[K     |████████████████████████████████| 274 kB 34.2 MB/s \n",
            "\u001b[?25hBuilding wheels for collected packages: pyyaml\n",
            "  Building wheel for pyyaml (setup.py) ... \u001b[?25l\u001b[?25hdone\n",
            "  Created wheel for pyyaml: filename=PyYAML-5.1-cp37-cp37m-linux_x86_64.whl size=44092 sha256=dc609d15def6e162e5fe397a8f9795818bb7f60bccdca146a0d7187e169e122e\n",
            "  Stored in directory: /root/.cache/pip/wheels/77/f5/10/d00a2bd30928b972790053b5de0c703ca87324f3fead0f2fd9\n",
            "Successfully built pyyaml\n",
            "Installing collected packages: pyyaml\n",
            "  Attempting uninstall: pyyaml\n",
            "    Found existing installation: PyYAML 6.0\n",
            "    Uninstalling PyYAML-6.0:\n",
            "      Successfully uninstalled PyYAML-6.0\n",
            "\u001b[31mERROR: pip's dependency resolver does not currently take into account all the packages that are installed. This behaviour is the source of the following dependency conflicts.\n",
            "dask 2022.2.0 requires pyyaml>=5.3.1, but you have pyyaml 5.1 which is incompatible.\u001b[0m\n",
            "Successfully installed pyyaml-5.1\n"
          ]
        }
      ]
    },
    {
      "cell_type": "code",
      "source": [
        "!pip install torch==1.7.1+cu101 torchvision==0.8.2+cu101 torchaudio==0.7.2 -f https://download.pytorch.org/whl/torch_stable.html"
      ],
      "metadata": {
        "colab": {
          "base_uri": "https://localhost:8080/"
        },
        "id": "W0CZxcwoPkEt",
        "outputId": "0404b044-d8d7-4aa4-ab7b-ec34af251606"
      },
      "execution_count": 2,
      "outputs": [
        {
          "output_type": "stream",
          "name": "stdout",
          "text": [
            "Looking in indexes: https://pypi.org/simple, https://us-python.pkg.dev/colab-wheels/public/simple/\n",
            "Looking in links: https://download.pytorch.org/whl/torch_stable.html\n",
            "Collecting torch==1.7.1+cu101\n",
            "  Downloading https://download.pytorch.org/whl/cu101/torch-1.7.1%2Bcu101-cp37-cp37m-linux_x86_64.whl (735.4 MB)\n",
            "\u001b[K     |████████████████████████████████| 735.4 MB 16 kB/s \n",
            "\u001b[?25hCollecting torchvision==0.8.2+cu101\n",
            "  Downloading https://download.pytorch.org/whl/cu101/torchvision-0.8.2%2Bcu101-cp37-cp37m-linux_x86_64.whl (12.8 MB)\n",
            "\u001b[K     |████████████████████████████████| 12.8 MB 36.1 MB/s \n",
            "\u001b[?25hCollecting torchaudio==0.7.2\n",
            "  Downloading torchaudio-0.7.2-cp37-cp37m-manylinux1_x86_64.whl (7.6 MB)\n",
            "\u001b[K     |████████████████████████████████| 7.6 MB 18.1 MB/s \n",
            "\u001b[?25hRequirement already satisfied: typing-extensions in /usr/local/lib/python3.7/dist-packages (from torch==1.7.1+cu101) (4.1.1)\n",
            "Requirement already satisfied: numpy in /usr/local/lib/python3.7/dist-packages (from torch==1.7.1+cu101) (1.21.6)\n",
            "Requirement already satisfied: pillow>=4.1.1 in /usr/local/lib/python3.7/dist-packages (from torchvision==0.8.2+cu101) (7.1.2)\n",
            "Installing collected packages: torch, torchvision, torchaudio\n",
            "  Attempting uninstall: torch\n",
            "    Found existing installation: torch 1.12.1+cu113\n",
            "    Uninstalling torch-1.12.1+cu113:\n",
            "      Successfully uninstalled torch-1.12.1+cu113\n",
            "  Attempting uninstall: torchvision\n",
            "    Found existing installation: torchvision 0.13.1+cu113\n",
            "    Uninstalling torchvision-0.13.1+cu113:\n",
            "      Successfully uninstalled torchvision-0.13.1+cu113\n",
            "  Attempting uninstall: torchaudio\n",
            "    Found existing installation: torchaudio 0.12.1+cu113\n",
            "    Uninstalling torchaudio-0.12.1+cu113:\n",
            "      Successfully uninstalled torchaudio-0.12.1+cu113\n",
            "\u001b[31mERROR: pip's dependency resolver does not currently take into account all the packages that are installed. This behaviour is the source of the following dependency conflicts.\n",
            "torchtext 0.13.1 requires torch==1.12.1, but you have torch 1.7.1+cu101 which is incompatible.\u001b[0m\n",
            "Successfully installed torch-1.7.1+cu101 torchaudio-0.7.2 torchvision-0.8.2+cu101\n"
          ]
        }
      ]
    },
    {
      "cell_type": "code",
      "source": [
        "import torch\n",
        "print(torch.__version__)\n",
        "print(torch.cuda.is_available())"
      ],
      "metadata": {
        "colab": {
          "base_uri": "https://localhost:8080/"
        },
        "id": "CzhWHSDEQH2H",
        "outputId": "71d02465-0b23-41a2-f622-4541fd31a009"
      },
      "execution_count": 3,
      "outputs": [
        {
          "output_type": "stream",
          "name": "stdout",
          "text": [
            "1.7.1+cu101\n",
            "True\n"
          ]
        }
      ]
    },
    {
      "cell_type": "code",
      "source": [
        "!pip install detectron2 -f https://dl.fbaipublicfiles.com/detectron2/wheels/cu101/torch1.7/index.html"
      ],
      "metadata": {
        "colab": {
          "base_uri": "https://localhost:8080/",
          "height": 1000
        },
        "id": "BYDgCZlYQf_Z",
        "outputId": "35c76059-e68b-4474-93c0-61d6563931bf"
      },
      "execution_count": 4,
      "outputs": [
        {
          "output_type": "stream",
          "name": "stdout",
          "text": [
            "Looking in indexes: https://pypi.org/simple, https://us-python.pkg.dev/colab-wheels/public/simple/\n",
            "Looking in links: https://dl.fbaipublicfiles.com/detectron2/wheels/cu101/torch1.7/index.html\n",
            "Collecting detectron2\n",
            "  Downloading https://dl.fbaipublicfiles.com/detectron2/wheels/cu101/torch1.7/detectron2-0.5%2Bcu101-cp37-cp37m-linux_x86_64.whl (6.1 MB)\n",
            "\u001b[K     |████████████████████████████████| 6.1 MB 2.4 MB/s \n",
            "\u001b[?25hCollecting yacs>=0.1.6\n",
            "  Downloading yacs-0.1.8-py3-none-any.whl (14 kB)\n",
            "Collecting iopath<0.1.9,>=0.1.7\n",
            "  Downloading iopath-0.1.8-py3-none-any.whl (19 kB)\n",
            "Collecting hydra-core>=1.1\n",
            "  Downloading hydra_core-1.2.0-py3-none-any.whl (151 kB)\n",
            "\u001b[K     |████████████████████████████████| 151 kB 10.8 MB/s \n",
            "\u001b[?25hRequirement already satisfied: pydot in /usr/local/lib/python3.7/dist-packages (from detectron2) (1.3.0)\n",
            "Collecting black==21.4b2\n",
            "  Downloading black-21.4b2-py3-none-any.whl (130 kB)\n",
            "\u001b[K     |████████████████████████████████| 130 kB 29.7 MB/s \n",
            "\u001b[?25hCollecting omegaconf>=2.1\n",
            "  Downloading omegaconf-2.2.3-py3-none-any.whl (79 kB)\n",
            "\u001b[K     |████████████████████████████████| 79 kB 5.9 MB/s \n",
            "\u001b[?25hRequirement already satisfied: Pillow>=7.1 in /usr/local/lib/python3.7/dist-packages (from detectron2) (7.1.2)\n",
            "Requirement already satisfied: termcolor>=1.1 in /usr/local/lib/python3.7/dist-packages (from detectron2) (1.1.0)\n",
            "Collecting fvcore<0.1.6,>=0.1.5\n",
            "  Downloading fvcore-0.1.5.post20220512.tar.gz (50 kB)\n",
            "\u001b[K     |████████████████████████████████| 50 kB 7.2 MB/s \n",
            "\u001b[?25hRequirement already satisfied: tabulate in /usr/local/lib/python3.7/dist-packages (from detectron2) (0.8.10)\n",
            "Requirement already satisfied: tensorboard in /usr/local/lib/python3.7/dist-packages (from detectron2) (2.8.0)\n",
            "Requirement already satisfied: future in /usr/local/lib/python3.7/dist-packages (from detectron2) (0.16.0)\n",
            "Requirement already satisfied: matplotlib in /usr/local/lib/python3.7/dist-packages (from detectron2) (3.2.2)\n",
            "Requirement already satisfied: cloudpickle in /usr/local/lib/python3.7/dist-packages (from detectron2) (1.5.0)\n",
            "Requirement already satisfied: tqdm>4.29.0 in /usr/local/lib/python3.7/dist-packages (from detectron2) (4.64.0)\n",
            "Requirement already satisfied: pycocotools>=2.0.2 in /usr/local/lib/python3.7/dist-packages (from detectron2) (2.0.4)\n",
            "Collecting typed-ast>=1.4.2\n",
            "  Downloading typed_ast-1.5.4-cp37-cp37m-manylinux_2_5_x86_64.manylinux1_x86_64.manylinux_2_12_x86_64.manylinux2010_x86_64.whl (843 kB)\n",
            "\u001b[K     |████████████████████████████████| 843 kB 71.7 MB/s \n",
            "\u001b[?25hCollecting pathspec<1,>=0.8.1\n",
            "  Downloading pathspec-0.10.1-py3-none-any.whl (27 kB)\n",
            "Requirement already satisfied: appdirs in /usr/local/lib/python3.7/dist-packages (from black==21.4b2->detectron2) (1.4.4)\n",
            "Collecting mypy-extensions>=0.4.3\n",
            "  Downloading mypy_extensions-0.4.3-py2.py3-none-any.whl (4.5 kB)\n",
            "Requirement already satisfied: typing-extensions>=3.7.4 in /usr/local/lib/python3.7/dist-packages (from black==21.4b2->detectron2) (4.1.1)\n",
            "Requirement already satisfied: click>=7.1.2 in /usr/local/lib/python3.7/dist-packages (from black==21.4b2->detectron2) (7.1.2)\n",
            "Requirement already satisfied: regex>=2020.1.8 in /usr/local/lib/python3.7/dist-packages (from black==21.4b2->detectron2) (2022.6.2)\n",
            "Requirement already satisfied: toml>=0.10.1 in /usr/local/lib/python3.7/dist-packages (from black==21.4b2->detectron2) (0.10.2)\n",
            "Requirement already satisfied: numpy in /usr/local/lib/python3.7/dist-packages (from fvcore<0.1.6,>=0.1.5->detectron2) (1.21.6)\n",
            "Requirement already satisfied: pyyaml>=5.1 in /usr/local/lib/python3.7/dist-packages (from fvcore<0.1.6,>=0.1.5->detectron2) (5.1)\n",
            "Requirement already satisfied: importlib-resources in /usr/local/lib/python3.7/dist-packages (from hydra-core>=1.1->detectron2) (5.9.0)\n",
            "Collecting antlr4-python3-runtime==4.9.*\n",
            "  Downloading antlr4-python3-runtime-4.9.3.tar.gz (117 kB)\n",
            "\u001b[K     |████████████████████████████████| 117 kB 59.7 MB/s \n",
            "\u001b[?25hRequirement already satisfied: packaging in /usr/local/lib/python3.7/dist-packages (from hydra-core>=1.1->detectron2) (21.3)\n",
            "Collecting portalocker\n",
            "  Downloading portalocker-2.5.1-py2.py3-none-any.whl (15 kB)\n",
            "Requirement already satisfied: cycler>=0.10 in /usr/local/lib/python3.7/dist-packages (from matplotlib->detectron2) (0.11.0)\n",
            "Requirement already satisfied: pyparsing!=2.0.4,!=2.1.2,!=2.1.6,>=2.0.1 in /usr/local/lib/python3.7/dist-packages (from matplotlib->detectron2) (3.0.9)\n",
            "Requirement already satisfied: kiwisolver>=1.0.1 in /usr/local/lib/python3.7/dist-packages (from matplotlib->detectron2) (1.4.4)\n",
            "Requirement already satisfied: python-dateutil>=2.1 in /usr/local/lib/python3.7/dist-packages (from matplotlib->detectron2) (2.8.2)\n",
            "Requirement already satisfied: six>=1.5 in /usr/local/lib/python3.7/dist-packages (from python-dateutil>=2.1->matplotlib->detectron2) (1.15.0)\n",
            "Requirement already satisfied: zipp>=3.1.0 in /usr/local/lib/python3.7/dist-packages (from importlib-resources->hydra-core>=1.1->detectron2) (3.8.1)\n",
            "Requirement already satisfied: setuptools>=41.0.0 in /usr/local/lib/python3.7/dist-packages (from tensorboard->detectron2) (57.4.0)\n",
            "Requirement already satisfied: wheel>=0.26 in /usr/local/lib/python3.7/dist-packages (from tensorboard->detectron2) (0.37.1)\n",
            "Requirement already satisfied: requests<3,>=2.21.0 in /usr/local/lib/python3.7/dist-packages (from tensorboard->detectron2) (2.23.0)\n",
            "Requirement already satisfied: google-auth-oauthlib<0.5,>=0.4.1 in /usr/local/lib/python3.7/dist-packages (from tensorboard->detectron2) (0.4.6)\n",
            "Requirement already satisfied: markdown>=2.6.8 in /usr/local/lib/python3.7/dist-packages (from tensorboard->detectron2) (3.4.1)\n",
            "Requirement already satisfied: tensorboard-plugin-wit>=1.6.0 in /usr/local/lib/python3.7/dist-packages (from tensorboard->detectron2) (1.8.1)\n",
            "Requirement already satisfied: absl-py>=0.4 in /usr/local/lib/python3.7/dist-packages (from tensorboard->detectron2) (1.2.0)\n",
            "Requirement already satisfied: protobuf>=3.6.0 in /usr/local/lib/python3.7/dist-packages (from tensorboard->detectron2) (3.17.3)\n",
            "Requirement already satisfied: tensorboard-data-server<0.7.0,>=0.6.0 in /usr/local/lib/python3.7/dist-packages (from tensorboard->detectron2) (0.6.1)\n",
            "Requirement already satisfied: werkzeug>=0.11.15 in /usr/local/lib/python3.7/dist-packages (from tensorboard->detectron2) (1.0.1)\n",
            "Requirement already satisfied: grpcio>=1.24.3 in /usr/local/lib/python3.7/dist-packages (from tensorboard->detectron2) (1.47.0)\n",
            "Requirement already satisfied: google-auth<3,>=1.6.3 in /usr/local/lib/python3.7/dist-packages (from tensorboard->detectron2) (1.35.0)\n",
            "Requirement already satisfied: rsa<5,>=3.1.4 in /usr/local/lib/python3.7/dist-packages (from google-auth<3,>=1.6.3->tensorboard->detectron2) (4.9)\n",
            "Requirement already satisfied: pyasn1-modules>=0.2.1 in /usr/local/lib/python3.7/dist-packages (from google-auth<3,>=1.6.3->tensorboard->detectron2) (0.2.8)\n",
            "Requirement already satisfied: cachetools<5.0,>=2.0.0 in /usr/local/lib/python3.7/dist-packages (from google-auth<3,>=1.6.3->tensorboard->detectron2) (4.2.4)\n",
            "Requirement already satisfied: requests-oauthlib>=0.7.0 in /usr/local/lib/python3.7/dist-packages (from google-auth-oauthlib<0.5,>=0.4.1->tensorboard->detectron2) (1.3.1)\n",
            "Requirement already satisfied: importlib-metadata>=4.4 in /usr/local/lib/python3.7/dist-packages (from markdown>=2.6.8->tensorboard->detectron2) (4.12.0)\n",
            "Requirement already satisfied: pyasn1<0.5.0,>=0.4.6 in /usr/local/lib/python3.7/dist-packages (from pyasn1-modules>=0.2.1->google-auth<3,>=1.6.3->tensorboard->detectron2) (0.4.8)\n",
            "Requirement already satisfied: certifi>=2017.4.17 in /usr/local/lib/python3.7/dist-packages (from requests<3,>=2.21.0->tensorboard->detectron2) (2022.6.15)\n",
            "Requirement already satisfied: chardet<4,>=3.0.2 in /usr/local/lib/python3.7/dist-packages (from requests<3,>=2.21.0->tensorboard->detectron2) (3.0.4)\n",
            "Requirement already satisfied: idna<3,>=2.5 in /usr/local/lib/python3.7/dist-packages (from requests<3,>=2.21.0->tensorboard->detectron2) (2.10)\n",
            "Requirement already satisfied: urllib3!=1.25.0,!=1.25.1,<1.26,>=1.21.1 in /usr/local/lib/python3.7/dist-packages (from requests<3,>=2.21.0->tensorboard->detectron2) (1.24.3)\n",
            "Requirement already satisfied: oauthlib>=3.0.0 in /usr/local/lib/python3.7/dist-packages (from requests-oauthlib>=0.7.0->google-auth-oauthlib<0.5,>=0.4.1->tensorboard->detectron2) (3.2.0)\n",
            "Building wheels for collected packages: fvcore, antlr4-python3-runtime\n",
            "  Building wheel for fvcore (setup.py) ... \u001b[?25l\u001b[?25hdone\n",
            "  Created wheel for fvcore: filename=fvcore-0.1.5.post20220512-py3-none-any.whl size=61288 sha256=c9efcca7e7942e790f8adb3c3e936ad72ec022d8373513fe1b60bb7f665a6971\n",
            "  Stored in directory: /root/.cache/pip/wheels/68/20/f9/a11a0dd63f4c13678b2a5ec488e48078756505c7777b75b29e\n",
            "  Building wheel for antlr4-python3-runtime (setup.py) ... \u001b[?25l\u001b[?25hdone\n",
            "  Created wheel for antlr4-python3-runtime: filename=antlr4_python3_runtime-4.9.3-py3-none-any.whl size=144575 sha256=43470054cbb42abab3f8861ef7015ca503a5a1b10469b2846a947ef822a69a59\n",
            "  Stored in directory: /root/.cache/pip/wheels/8b/8d/53/2af8772d9aec614e3fc65e53d4a993ad73c61daa8bbd85a873\n",
            "Successfully built fvcore antlr4-python3-runtime\n",
            "Installing collected packages: portalocker, antlr4-python3-runtime, yacs, typed-ast, pathspec, omegaconf, mypy-extensions, iopath, hydra-core, fvcore, black, detectron2\n",
            "Successfully installed antlr4-python3-runtime-4.9.3 black-21.4b2 detectron2-0.5+cu101 fvcore-0.1.5.post20220512 hydra-core-1.2.0 iopath-0.1.8 mypy-extensions-0.4.3 omegaconf-2.2.3 pathspec-0.10.1 portalocker-2.5.1 typed-ast-1.5.4 yacs-0.1.8\n"
          ]
        },
        {
          "output_type": "display_data",
          "data": {
            "application/vnd.colab-display-data+json": {
              "pip_warning": {
                "packages": [
                  "pydevd_plugins"
                ]
              }
            }
          },
          "metadata": {}
        }
      ]
    },
    {
      "cell_type": "markdown",
      "source": [
        "#Importações Necessarias"
      ],
      "metadata": {
        "id": "AUv7VM-qjCXY"
      }
    },
    {
      "cell_type": "code",
      "source": [
        "!pip install -q pyngrok"
      ],
      "metadata": {
        "colab": {
          "base_uri": "https://localhost:8080/"
        },
        "id": "aeAeRg3UjGP0",
        "outputId": "f65183e6-0a8b-4e19-9bc8-49716df45fd4"
      },
      "execution_count": 5,
      "outputs": [
        {
          "output_type": "stream",
          "name": "stdout",
          "text": [
            "\u001b[?25l\r\u001b[K     |▍                               | 10 kB 30.3 MB/s eta 0:00:01\r\u001b[K     |▉                               | 20 kB 37.5 MB/s eta 0:00:01\r\u001b[K     |█▎                              | 30 kB 45.2 MB/s eta 0:00:01\r\u001b[K     |█▊                              | 40 kB 26.1 MB/s eta 0:00:01\r\u001b[K     |██▏                             | 51 kB 29.1 MB/s eta 0:00:01\r\u001b[K     |██▋                             | 61 kB 32.7 MB/s eta 0:00:01\r\u001b[K     |███                             | 71 kB 29.6 MB/s eta 0:00:01\r\u001b[K     |███▌                            | 81 kB 30.4 MB/s eta 0:00:01\r\u001b[K     |████                            | 92 kB 31.9 MB/s eta 0:00:01\r\u001b[K     |████▍                           | 102 kB 33.6 MB/s eta 0:00:01\r\u001b[K     |████▉                           | 112 kB 33.6 MB/s eta 0:00:01\r\u001b[K     |█████▎                          | 122 kB 33.6 MB/s eta 0:00:01\r\u001b[K     |█████▊                          | 133 kB 33.6 MB/s eta 0:00:01\r\u001b[K     |██████▏                         | 143 kB 33.6 MB/s eta 0:00:01\r\u001b[K     |██████▋                         | 153 kB 33.6 MB/s eta 0:00:01\r\u001b[K     |███████                         | 163 kB 33.6 MB/s eta 0:00:01\r\u001b[K     |███████▌                        | 174 kB 33.6 MB/s eta 0:00:01\r\u001b[K     |████████                        | 184 kB 33.6 MB/s eta 0:00:01\r\u001b[K     |████████▍                       | 194 kB 33.6 MB/s eta 0:00:01\r\u001b[K     |████████▉                       | 204 kB 33.6 MB/s eta 0:00:01\r\u001b[K     |█████████▎                      | 215 kB 33.6 MB/s eta 0:00:01\r\u001b[K     |█████████▊                      | 225 kB 33.6 MB/s eta 0:00:01\r\u001b[K     |██████████▏                     | 235 kB 33.6 MB/s eta 0:00:01\r\u001b[K     |██████████▌                     | 245 kB 33.6 MB/s eta 0:00:01\r\u001b[K     |███████████                     | 256 kB 33.6 MB/s eta 0:00:01\r\u001b[K     |███████████▍                    | 266 kB 33.6 MB/s eta 0:00:01\r\u001b[K     |███████████▉                    | 276 kB 33.6 MB/s eta 0:00:01\r\u001b[K     |████████████▎                   | 286 kB 33.6 MB/s eta 0:00:01\r\u001b[K     |████████████▊                   | 296 kB 33.6 MB/s eta 0:00:01\r\u001b[K     |█████████████▏                  | 307 kB 33.6 MB/s eta 0:00:01\r\u001b[K     |█████████████▋                  | 317 kB 33.6 MB/s eta 0:00:01\r\u001b[K     |██████████████                  | 327 kB 33.6 MB/s eta 0:00:01\r\u001b[K     |██████████████▌                 | 337 kB 33.6 MB/s eta 0:00:01\r\u001b[K     |███████████████                 | 348 kB 33.6 MB/s eta 0:00:01\r\u001b[K     |███████████████▍                | 358 kB 33.6 MB/s eta 0:00:01\r\u001b[K     |███████████████▉                | 368 kB 33.6 MB/s eta 0:00:01\r\u001b[K     |████████████████▎               | 378 kB 33.6 MB/s eta 0:00:01\r\u001b[K     |████████████████▊               | 389 kB 33.6 MB/s eta 0:00:01\r\u001b[K     |█████████████████▏              | 399 kB 33.6 MB/s eta 0:00:01\r\u001b[K     |█████████████████▋              | 409 kB 33.6 MB/s eta 0:00:01\r\u001b[K     |██████████████████              | 419 kB 33.6 MB/s eta 0:00:01\r\u001b[K     |██████████████████▌             | 430 kB 33.6 MB/s eta 0:00:01\r\u001b[K     |███████████████████             | 440 kB 33.6 MB/s eta 0:00:01\r\u001b[K     |███████████████████▍            | 450 kB 33.6 MB/s eta 0:00:01\r\u001b[K     |███████████████████▉            | 460 kB 33.6 MB/s eta 0:00:01\r\u001b[K     |████████████████████▎           | 471 kB 33.6 MB/s eta 0:00:01\r\u001b[K     |████████████████████▋           | 481 kB 33.6 MB/s eta 0:00:01\r\u001b[K     |█████████████████████           | 491 kB 33.6 MB/s eta 0:00:01\r\u001b[K     |█████████████████████▌          | 501 kB 33.6 MB/s eta 0:00:01\r\u001b[K     |██████████████████████          | 512 kB 33.6 MB/s eta 0:00:01\r\u001b[K     |██████████████████████▍         | 522 kB 33.6 MB/s eta 0:00:01\r\u001b[K     |██████████████████████▉         | 532 kB 33.6 MB/s eta 0:00:01\r\u001b[K     |███████████████████████▎        | 542 kB 33.6 MB/s eta 0:00:01\r\u001b[K     |███████████████████████▊        | 552 kB 33.6 MB/s eta 0:00:01\r\u001b[K     |████████████████████████▏       | 563 kB 33.6 MB/s eta 0:00:01\r\u001b[K     |████████████████████████▋       | 573 kB 33.6 MB/s eta 0:00:01\r\u001b[K     |█████████████████████████       | 583 kB 33.6 MB/s eta 0:00:01\r\u001b[K     |█████████████████████████▌      | 593 kB 33.6 MB/s eta 0:00:01\r\u001b[K     |██████████████████████████      | 604 kB 33.6 MB/s eta 0:00:01\r\u001b[K     |██████████████████████████▍     | 614 kB 33.6 MB/s eta 0:00:01\r\u001b[K     |██████████████████████████▉     | 624 kB 33.6 MB/s eta 0:00:01\r\u001b[K     |███████████████████████████▎    | 634 kB 33.6 MB/s eta 0:00:01\r\u001b[K     |███████████████████████████▊    | 645 kB 33.6 MB/s eta 0:00:01\r\u001b[K     |████████████████████████████▏   | 655 kB 33.6 MB/s eta 0:00:01\r\u001b[K     |████████████████████████████▋   | 665 kB 33.6 MB/s eta 0:00:01\r\u001b[K     |█████████████████████████████   | 675 kB 33.6 MB/s eta 0:00:01\r\u001b[K     |█████████████████████████████▌  | 686 kB 33.6 MB/s eta 0:00:01\r\u001b[K     |██████████████████████████████  | 696 kB 33.6 MB/s eta 0:00:01\r\u001b[K     |██████████████████████████████▍ | 706 kB 33.6 MB/s eta 0:00:01\r\u001b[K     |██████████████████████████████▊ | 716 kB 33.6 MB/s eta 0:00:01\r\u001b[K     |███████████████████████████████▏| 727 kB 33.6 MB/s eta 0:00:01\r\u001b[K     |███████████████████████████████▋| 737 kB 33.6 MB/s eta 0:00:01\r\u001b[K     |████████████████████████████████| 745 kB 33.6 MB/s \n",
            "\u001b[?25h  Building wheel for pyngrok (setup.py) ... \u001b[?25l\u001b[?25hdone\n"
          ]
        }
      ]
    },
    {
      "cell_type": "code",
      "source": [
        "!pip install -q streamlit"
      ],
      "metadata": {
        "colab": {
          "base_uri": "https://localhost:8080/"
        },
        "id": "l_uYqyQwjLUf",
        "outputId": "2d2c3fb2-590e-48fe-f2b2-c08e066bb81b"
      },
      "execution_count": 6,
      "outputs": [
        {
          "output_type": "stream",
          "name": "stdout",
          "text": [
            "\u001b[K     |████████████████████████████████| 9.1 MB 26.5 MB/s \n",
            "\u001b[K     |████████████████████████████████| 235 kB 66.1 MB/s \n",
            "\u001b[K     |████████████████████████████████| 78 kB 7.8 MB/s \n",
            "\u001b[K     |████████████████████████████████| 181 kB 72.8 MB/s \n",
            "\u001b[K     |████████████████████████████████| 4.7 MB 55.9 MB/s \n",
            "\u001b[K     |████████████████████████████████| 164 kB 61.8 MB/s \n",
            "\u001b[K     |████████████████████████████████| 63 kB 2.1 MB/s \n",
            "\u001b[K     |████████████████████████████████| 51 kB 7.1 MB/s \n",
            "\u001b[?25h  Building wheel for validators (setup.py) ... \u001b[?25l\u001b[?25hdone\n"
          ]
        }
      ]
    },
    {
      "cell_type": "code",
      "source": [
        "!pip install -q streamlit_ace"
      ],
      "metadata": {
        "colab": {
          "base_uri": "https://localhost:8080/"
        },
        "id": "ffM_k4T_jOlW",
        "outputId": "7d916dcf-970b-4625-a092-dd89c8a7cba4"
      },
      "execution_count": 7,
      "outputs": [
        {
          "output_type": "stream",
          "name": "stdout",
          "text": [
            "\u001b[?25l\r\u001b[K     |                                | 10 kB 35.6 MB/s eta 0:00:01\r\u001b[K     |▏                               | 20 kB 24.4 MB/s eta 0:00:01\r\u001b[K     |▎                               | 30 kB 31.2 MB/s eta 0:00:01\r\u001b[K     |▍                               | 40 kB 23.6 MB/s eta 0:00:01\r\u001b[K     |▌                               | 51 kB 27.2 MB/s eta 0:00:01\r\u001b[K     |▌                               | 61 kB 30.9 MB/s eta 0:00:01\r\u001b[K     |▋                               | 71 kB 25.8 MB/s eta 0:00:01\r\u001b[K     |▊                               | 81 kB 27.4 MB/s eta 0:00:01\r\u001b[K     |▉                               | 92 kB 29.6 MB/s eta 0:00:01\r\u001b[K     |█                               | 102 kB 27.2 MB/s eta 0:00:01\r\u001b[K     |█                               | 112 kB 27.2 MB/s eta 0:00:01\r\u001b[K     |█                               | 122 kB 27.2 MB/s eta 0:00:01\r\u001b[K     |█▏                              | 133 kB 27.2 MB/s eta 0:00:01\r\u001b[K     |█▎                              | 143 kB 27.2 MB/s eta 0:00:01\r\u001b[K     |█▍                              | 153 kB 27.2 MB/s eta 0:00:01\r\u001b[K     |█▍                              | 163 kB 27.2 MB/s eta 0:00:01\r\u001b[K     |█▌                              | 174 kB 27.2 MB/s eta 0:00:01\r\u001b[K     |█▋                              | 184 kB 27.2 MB/s eta 0:00:01\r\u001b[K     |█▊                              | 194 kB 27.2 MB/s eta 0:00:01\r\u001b[K     |█▉                              | 204 kB 27.2 MB/s eta 0:00:01\r\u001b[K     |██                              | 215 kB 27.2 MB/s eta 0:00:01\r\u001b[K     |██                              | 225 kB 27.2 MB/s eta 0:00:01\r\u001b[K     |██                              | 235 kB 27.2 MB/s eta 0:00:01\r\u001b[K     |██▏                             | 245 kB 27.2 MB/s eta 0:00:01\r\u001b[K     |██▎                             | 256 kB 27.2 MB/s eta 0:00:01\r\u001b[K     |██▍                             | 266 kB 27.2 MB/s eta 0:00:01\r\u001b[K     |██▍                             | 276 kB 27.2 MB/s eta 0:00:01\r\u001b[K     |██▌                             | 286 kB 27.2 MB/s eta 0:00:01\r\u001b[K     |██▋                             | 296 kB 27.2 MB/s eta 0:00:01\r\u001b[K     |██▊                             | 307 kB 27.2 MB/s eta 0:00:01\r\u001b[K     |██▉                             | 317 kB 27.2 MB/s eta 0:00:01\r\u001b[K     |██▉                             | 327 kB 27.2 MB/s eta 0:00:01\r\u001b[K     |███                             | 337 kB 27.2 MB/s eta 0:00:01\r\u001b[K     |███                             | 348 kB 27.2 MB/s eta 0:00:01\r\u001b[K     |███▏                            | 358 kB 27.2 MB/s eta 0:00:01\r\u001b[K     |███▎                            | 368 kB 27.2 MB/s eta 0:00:01\r\u001b[K     |███▎                            | 378 kB 27.2 MB/s eta 0:00:01\r\u001b[K     |███▍                            | 389 kB 27.2 MB/s eta 0:00:01\r\u001b[K     |███▌                            | 399 kB 27.2 MB/s eta 0:00:01\r\u001b[K     |███▋                            | 409 kB 27.2 MB/s eta 0:00:01\r\u001b[K     |███▊                            | 419 kB 27.2 MB/s eta 0:00:01\r\u001b[K     |███▉                            | 430 kB 27.2 MB/s eta 0:00:01\r\u001b[K     |███▉                            | 440 kB 27.2 MB/s eta 0:00:01\r\u001b[K     |████                            | 450 kB 27.2 MB/s eta 0:00:01\r\u001b[K     |████                            | 460 kB 27.2 MB/s eta 0:00:01\r\u001b[K     |████▏                           | 471 kB 27.2 MB/s eta 0:00:01\r\u001b[K     |████▎                           | 481 kB 27.2 MB/s eta 0:00:01\r\u001b[K     |████▎                           | 491 kB 27.2 MB/s eta 0:00:01\r\u001b[K     |████▍                           | 501 kB 27.2 MB/s eta 0:00:01\r\u001b[K     |████▌                           | 512 kB 27.2 MB/s eta 0:00:01\r\u001b[K     |████▋                           | 522 kB 27.2 MB/s eta 0:00:01\r\u001b[K     |████▊                           | 532 kB 27.2 MB/s eta 0:00:01\r\u001b[K     |████▊                           | 542 kB 27.2 MB/s eta 0:00:01\r\u001b[K     |████▉                           | 552 kB 27.2 MB/s eta 0:00:01\r\u001b[K     |█████                           | 563 kB 27.2 MB/s eta 0:00:01\r\u001b[K     |█████                           | 573 kB 27.2 MB/s eta 0:00:01\r\u001b[K     |█████▏                          | 583 kB 27.2 MB/s eta 0:00:01\r\u001b[K     |█████▏                          | 593 kB 27.2 MB/s eta 0:00:01\r\u001b[K     |█████▎                          | 604 kB 27.2 MB/s eta 0:00:01\r\u001b[K     |█████▍                          | 614 kB 27.2 MB/s eta 0:00:01\r\u001b[K     |█████▌                          | 624 kB 27.2 MB/s eta 0:00:01\r\u001b[K     |█████▋                          | 634 kB 27.2 MB/s eta 0:00:01\r\u001b[K     |█████▊                          | 645 kB 27.2 MB/s eta 0:00:01\r\u001b[K     |█████▊                          | 655 kB 27.2 MB/s eta 0:00:01\r\u001b[K     |█████▉                          | 665 kB 27.2 MB/s eta 0:00:01\r\u001b[K     |██████                          | 675 kB 27.2 MB/s eta 0:00:01\r\u001b[K     |██████                          | 686 kB 27.2 MB/s eta 0:00:01\r\u001b[K     |██████▏                         | 696 kB 27.2 MB/s eta 0:00:01\r\u001b[K     |██████▏                         | 706 kB 27.2 MB/s eta 0:00:01\r\u001b[K     |██████▎                         | 716 kB 27.2 MB/s eta 0:00:01\r\u001b[K     |██████▍                         | 727 kB 27.2 MB/s eta 0:00:01\r\u001b[K     |██████▌                         | 737 kB 27.2 MB/s eta 0:00:01\r\u001b[K     |██████▋                         | 747 kB 27.2 MB/s eta 0:00:01\r\u001b[K     |██████▋                         | 757 kB 27.2 MB/s eta 0:00:01\r\u001b[K     |██████▊                         | 768 kB 27.2 MB/s eta 0:00:01\r\u001b[K     |██████▉                         | 778 kB 27.2 MB/s eta 0:00:01\r\u001b[K     |███████                         | 788 kB 27.2 MB/s eta 0:00:01\r\u001b[K     |███████                         | 798 kB 27.2 MB/s eta 0:00:01\r\u001b[K     |███████                         | 808 kB 27.2 MB/s eta 0:00:01\r\u001b[K     |███████▏                        | 819 kB 27.2 MB/s eta 0:00:01\r\u001b[K     |███████▎                        | 829 kB 27.2 MB/s eta 0:00:01\r\u001b[K     |███████▍                        | 839 kB 27.2 MB/s eta 0:00:01\r\u001b[K     |███████▌                        | 849 kB 27.2 MB/s eta 0:00:01\r\u001b[K     |███████▋                        | 860 kB 27.2 MB/s eta 0:00:01\r\u001b[K     |███████▋                        | 870 kB 27.2 MB/s eta 0:00:01\r\u001b[K     |███████▊                        | 880 kB 27.2 MB/s eta 0:00:01\r\u001b[K     |███████▉                        | 890 kB 27.2 MB/s eta 0:00:01\r\u001b[K     |████████                        | 901 kB 27.2 MB/s eta 0:00:01\r\u001b[K     |████████                        | 911 kB 27.2 MB/s eta 0:00:01\r\u001b[K     |████████                        | 921 kB 27.2 MB/s eta 0:00:01\r\u001b[K     |████████▏                       | 931 kB 27.2 MB/s eta 0:00:01\r\u001b[K     |████████▎                       | 942 kB 27.2 MB/s eta 0:00:01\r\u001b[K     |████████▍                       | 952 kB 27.2 MB/s eta 0:00:01\r\u001b[K     |████████▌                       | 962 kB 27.2 MB/s eta 0:00:01\r\u001b[K     |████████▌                       | 972 kB 27.2 MB/s eta 0:00:01\r\u001b[K     |████████▋                       | 983 kB 27.2 MB/s eta 0:00:01\r\u001b[K     |████████▊                       | 993 kB 27.2 MB/s eta 0:00:01\r\u001b[K     |████████▉                       | 1.0 MB 27.2 MB/s eta 0:00:01\r\u001b[K     |█████████                       | 1.0 MB 27.2 MB/s eta 0:00:01\r\u001b[K     |█████████                       | 1.0 MB 27.2 MB/s eta 0:00:01\r\u001b[K     |█████████                       | 1.0 MB 27.2 MB/s eta 0:00:01\r\u001b[K     |█████████▏                      | 1.0 MB 27.2 MB/s eta 0:00:01\r\u001b[K     |█████████▎                      | 1.1 MB 27.2 MB/s eta 0:00:01\r\u001b[K     |█████████▍                      | 1.1 MB 27.2 MB/s eta 0:00:01\r\u001b[K     |█████████▌                      | 1.1 MB 27.2 MB/s eta 0:00:01\r\u001b[K     |█████████▌                      | 1.1 MB 27.2 MB/s eta 0:00:01\r\u001b[K     |█████████▋                      | 1.1 MB 27.2 MB/s eta 0:00:01\r\u001b[K     |█████████▊                      | 1.1 MB 27.2 MB/s eta 0:00:01\r\u001b[K     |█████████▉                      | 1.1 MB 27.2 MB/s eta 0:00:01\r\u001b[K     |██████████                      | 1.1 MB 27.2 MB/s eta 0:00:01\r\u001b[K     |██████████                      | 1.1 MB 27.2 MB/s eta 0:00:01\r\u001b[K     |██████████                      | 1.1 MB 27.2 MB/s eta 0:00:01\r\u001b[K     |██████████▏                     | 1.2 MB 27.2 MB/s eta 0:00:01\r\u001b[K     |██████████▎                     | 1.2 MB 27.2 MB/s eta 0:00:01\r\u001b[K     |██████████▍                     | 1.2 MB 27.2 MB/s eta 0:00:01\r\u001b[K     |██████████▍                     | 1.2 MB 27.2 MB/s eta 0:00:01\r\u001b[K     |██████████▌                     | 1.2 MB 27.2 MB/s eta 0:00:01\r\u001b[K     |██████████▋                     | 1.2 MB 27.2 MB/s eta 0:00:01\r\u001b[K     |██████████▊                     | 1.2 MB 27.2 MB/s eta 0:00:01\r\u001b[K     |██████████▉                     | 1.2 MB 27.2 MB/s eta 0:00:01\r\u001b[K     |██████████▉                     | 1.2 MB 27.2 MB/s eta 0:00:01\r\u001b[K     |███████████                     | 1.2 MB 27.2 MB/s eta 0:00:01\r\u001b[K     |███████████                     | 1.3 MB 27.2 MB/s eta 0:00:01\r\u001b[K     |███████████▏                    | 1.3 MB 27.2 MB/s eta 0:00:01\r\u001b[K     |███████████▎                    | 1.3 MB 27.2 MB/s eta 0:00:01\r\u001b[K     |███████████▍                    | 1.3 MB 27.2 MB/s eta 0:00:01\r\u001b[K     |███████████▍                    | 1.3 MB 27.2 MB/s eta 0:00:01\r\u001b[K     |███████████▌                    | 1.3 MB 27.2 MB/s eta 0:00:01\r\u001b[K     |███████████▋                    | 1.3 MB 27.2 MB/s eta 0:00:01\r\u001b[K     |███████████▊                    | 1.3 MB 27.2 MB/s eta 0:00:01\r\u001b[K     |███████████▉                    | 1.3 MB 27.2 MB/s eta 0:00:01\r\u001b[K     |███████████▉                    | 1.4 MB 27.2 MB/s eta 0:00:01\r\u001b[K     |████████████                    | 1.4 MB 27.2 MB/s eta 0:00:01\r\u001b[K     |████████████                    | 1.4 MB 27.2 MB/s eta 0:00:01\r\u001b[K     |████████████▏                   | 1.4 MB 27.2 MB/s eta 0:00:01\r\u001b[K     |████████████▎                   | 1.4 MB 27.2 MB/s eta 0:00:01\r\u001b[K     |████████████▎                   | 1.4 MB 27.2 MB/s eta 0:00:01\r\u001b[K     |████████████▍                   | 1.4 MB 27.2 MB/s eta 0:00:01\r\u001b[K     |████████████▌                   | 1.4 MB 27.2 MB/s eta 0:00:01\r\u001b[K     |████████████▋                   | 1.4 MB 27.2 MB/s eta 0:00:01\r\u001b[K     |████████████▊                   | 1.4 MB 27.2 MB/s eta 0:00:01\r\u001b[K     |████████████▊                   | 1.5 MB 27.2 MB/s eta 0:00:01\r\u001b[K     |████████████▉                   | 1.5 MB 27.2 MB/s eta 0:00:01\r\u001b[K     |█████████████                   | 1.5 MB 27.2 MB/s eta 0:00:01\r\u001b[K     |█████████████                   | 1.5 MB 27.2 MB/s eta 0:00:01\r\u001b[K     |█████████████▏                  | 1.5 MB 27.2 MB/s eta 0:00:01\r\u001b[K     |█████████████▎                  | 1.5 MB 27.2 MB/s eta 0:00:01\r\u001b[K     |█████████████▎                  | 1.5 MB 27.2 MB/s eta 0:00:01\r\u001b[K     |█████████████▍                  | 1.5 MB 27.2 MB/s eta 0:00:01\r\u001b[K     |█████████████▌                  | 1.5 MB 27.2 MB/s eta 0:00:01\r\u001b[K     |█████████████▋                  | 1.5 MB 27.2 MB/s eta 0:00:01\r\u001b[K     |█████████████▊                  | 1.6 MB 27.2 MB/s eta 0:00:01\r\u001b[K     |█████████████▊                  | 1.6 MB 27.2 MB/s eta 0:00:01\r\u001b[K     |█████████████▉                  | 1.6 MB 27.2 MB/s eta 0:00:01\r\u001b[K     |██████████████                  | 1.6 MB 27.2 MB/s eta 0:00:01\r\u001b[K     |██████████████                  | 1.6 MB 27.2 MB/s eta 0:00:01\r\u001b[K     |██████████████▏                 | 1.6 MB 27.2 MB/s eta 0:00:01\r\u001b[K     |██████████████▏                 | 1.6 MB 27.2 MB/s eta 0:00:01\r\u001b[K     |██████████████▎                 | 1.6 MB 27.2 MB/s eta 0:00:01\r\u001b[K     |██████████████▍                 | 1.6 MB 27.2 MB/s eta 0:00:01\r\u001b[K     |██████████████▌                 | 1.6 MB 27.2 MB/s eta 0:00:01\r\u001b[K     |██████████████▋                 | 1.7 MB 27.2 MB/s eta 0:00:01\r\u001b[K     |██████████████▋                 | 1.7 MB 27.2 MB/s eta 0:00:01\r\u001b[K     |██████████████▊                 | 1.7 MB 27.2 MB/s eta 0:00:01\r\u001b[K     |██████████████▉                 | 1.7 MB 27.2 MB/s eta 0:00:01\r\u001b[K     |███████████████                 | 1.7 MB 27.2 MB/s eta 0:00:01\r\u001b[K     |███████████████                 | 1.7 MB 27.2 MB/s eta 0:00:01\r\u001b[K     |███████████████▏                | 1.7 MB 27.2 MB/s eta 0:00:01\r\u001b[K     |███████████████▏                | 1.7 MB 27.2 MB/s eta 0:00:01\r\u001b[K     |███████████████▎                | 1.7 MB 27.2 MB/s eta 0:00:01\r\u001b[K     |███████████████▍                | 1.8 MB 27.2 MB/s eta 0:00:01\r\u001b[K     |███████████████▌                | 1.8 MB 27.2 MB/s eta 0:00:01\r\u001b[K     |███████████████▋                | 1.8 MB 27.2 MB/s eta 0:00:01\r\u001b[K     |███████████████▋                | 1.8 MB 27.2 MB/s eta 0:00:01\r\u001b[K     |███████████████▊                | 1.8 MB 27.2 MB/s eta 0:00:01\r\u001b[K     |███████████████▉                | 1.8 MB 27.2 MB/s eta 0:00:01\r\u001b[K     |████████████████                | 1.8 MB 27.2 MB/s eta 0:00:01\r\u001b[K     |████████████████                | 1.8 MB 27.2 MB/s eta 0:00:01\r\u001b[K     |████████████████                | 1.8 MB 27.2 MB/s eta 0:00:01\r\u001b[K     |████████████████▏               | 1.8 MB 27.2 MB/s eta 0:00:01\r\u001b[K     |████████████████▎               | 1.9 MB 27.2 MB/s eta 0:00:01\r\u001b[K     |████████████████▍               | 1.9 MB 27.2 MB/s eta 0:00:01\r\u001b[K     |████████████████▌               | 1.9 MB 27.2 MB/s eta 0:00:01\r\u001b[K     |████████████████▌               | 1.9 MB 27.2 MB/s eta 0:00:01\r\u001b[K     |████████████████▋               | 1.9 MB 27.2 MB/s eta 0:00:01\r\u001b[K     |████████████████▊               | 1.9 MB 27.2 MB/s eta 0:00:01\r\u001b[K     |████████████████▉               | 1.9 MB 27.2 MB/s eta 0:00:01\r\u001b[K     |█████████████████               | 1.9 MB 27.2 MB/s eta 0:00:01\r\u001b[K     |█████████████████               | 1.9 MB 27.2 MB/s eta 0:00:01\r\u001b[K     |█████████████████               | 1.9 MB 27.2 MB/s eta 0:00:01\r\u001b[K     |█████████████████▏              | 2.0 MB 27.2 MB/s eta 0:00:01\r\u001b[K     |█████████████████▎              | 2.0 MB 27.2 MB/s eta 0:00:01\r\u001b[K     |█████████████████▍              | 2.0 MB 27.2 MB/s eta 0:00:01\r\u001b[K     |█████████████████▌              | 2.0 MB 27.2 MB/s eta 0:00:01\r\u001b[K     |█████████████████▌              | 2.0 MB 27.2 MB/s eta 0:00:01\r\u001b[K     |█████████████████▋              | 2.0 MB 27.2 MB/s eta 0:00:01\r\u001b[K     |█████████████████▊              | 2.0 MB 27.2 MB/s eta 0:00:01\r\u001b[K     |█████████████████▉              | 2.0 MB 27.2 MB/s eta 0:00:01\r\u001b[K     |██████████████████              | 2.0 MB 27.2 MB/s eta 0:00:01\r\u001b[K     |██████████████████              | 2.0 MB 27.2 MB/s eta 0:00:01\r\u001b[K     |██████████████████              | 2.1 MB 27.2 MB/s eta 0:00:01\r\u001b[K     |██████████████████▏             | 2.1 MB 27.2 MB/s eta 0:00:01\r\u001b[K     |██████████████████▎             | 2.1 MB 27.2 MB/s eta 0:00:01\r\u001b[K     |██████████████████▍             | 2.1 MB 27.2 MB/s eta 0:00:01\r\u001b[K     |██████████████████▍             | 2.1 MB 27.2 MB/s eta 0:00:01\r\u001b[K     |██████████████████▌             | 2.1 MB 27.2 MB/s eta 0:00:01\r\u001b[K     |██████████████████▋             | 2.1 MB 27.2 MB/s eta 0:00:01\r\u001b[K     |██████████████████▊             | 2.1 MB 27.2 MB/s eta 0:00:01\r\u001b[K     |██████████████████▉             | 2.1 MB 27.2 MB/s eta 0:00:01\r\u001b[K     |███████████████████             | 2.2 MB 27.2 MB/s eta 0:00:01\r\u001b[K     |███████████████████             | 2.2 MB 27.2 MB/s eta 0:00:01\r\u001b[K     |███████████████████             | 2.2 MB 27.2 MB/s eta 0:00:01\r\u001b[K     |███████████████████▏            | 2.2 MB 27.2 MB/s eta 0:00:01\r\u001b[K     |███████████████████▎            | 2.2 MB 27.2 MB/s eta 0:00:01\r\u001b[K     |███████████████████▍            | 2.2 MB 27.2 MB/s eta 0:00:01\r\u001b[K     |███████████████████▍            | 2.2 MB 27.2 MB/s eta 0:00:01\r\u001b[K     |███████████████████▌            | 2.2 MB 27.2 MB/s eta 0:00:01\r\u001b[K     |███████████████████▋            | 2.2 MB 27.2 MB/s eta 0:00:01\r\u001b[K     |███████████████████▊            | 2.2 MB 27.2 MB/s eta 0:00:01\r\u001b[K     |███████████████████▉            | 2.3 MB 27.2 MB/s eta 0:00:01\r\u001b[K     |███████████████████▉            | 2.3 MB 27.2 MB/s eta 0:00:01\r\u001b[K     |████████████████████            | 2.3 MB 27.2 MB/s eta 0:00:01\r\u001b[K     |████████████████████            | 2.3 MB 27.2 MB/s eta 0:00:01\r\u001b[K     |████████████████████▏           | 2.3 MB 27.2 MB/s eta 0:00:01\r\u001b[K     |████████████████████▎           | 2.3 MB 27.2 MB/s eta 0:00:01\r\u001b[K     |████████████████████▎           | 2.3 MB 27.2 MB/s eta 0:00:01\r\u001b[K     |████████████████████▍           | 2.3 MB 27.2 MB/s eta 0:00:01\r\u001b[K     |████████████████████▌           | 2.3 MB 27.2 MB/s eta 0:00:01\r\u001b[K     |████████████████████▋           | 2.3 MB 27.2 MB/s eta 0:00:01\r\u001b[K     |████████████████████▊           | 2.4 MB 27.2 MB/s eta 0:00:01\r\u001b[K     |████████████████████▉           | 2.4 MB 27.2 MB/s eta 0:00:01\r\u001b[K     |████████████████████▉           | 2.4 MB 27.2 MB/s eta 0:00:01\r\u001b[K     |█████████████████████           | 2.4 MB 27.2 MB/s eta 0:00:01\r\u001b[K     |█████████████████████           | 2.4 MB 27.2 MB/s eta 0:00:01\r\u001b[K     |█████████████████████▏          | 2.4 MB 27.2 MB/s eta 0:00:01\r\u001b[K     |█████████████████████▎          | 2.4 MB 27.2 MB/s eta 0:00:01\r\u001b[K     |█████████████████████▎          | 2.4 MB 27.2 MB/s eta 0:00:01\r\u001b[K     |█████████████████████▍          | 2.4 MB 27.2 MB/s eta 0:00:01\r\u001b[K     |█████████████████████▌          | 2.4 MB 27.2 MB/s eta 0:00:01\r\u001b[K     |█████████████████████▋          | 2.5 MB 27.2 MB/s eta 0:00:01\r\u001b[K     |█████████████████████▊          | 2.5 MB 27.2 MB/s eta 0:00:01\r\u001b[K     |█████████████████████▊          | 2.5 MB 27.2 MB/s eta 0:00:01\r\u001b[K     |█████████████████████▉          | 2.5 MB 27.2 MB/s eta 0:00:01\r\u001b[K     |██████████████████████          | 2.5 MB 27.2 MB/s eta 0:00:01\r\u001b[K     |██████████████████████          | 2.5 MB 27.2 MB/s eta 0:00:01\r\u001b[K     |██████████████████████▏         | 2.5 MB 27.2 MB/s eta 0:00:01\r\u001b[K     |██████████████████████▏         | 2.5 MB 27.2 MB/s eta 0:00:01\r\u001b[K     |██████████████████████▎         | 2.5 MB 27.2 MB/s eta 0:00:01\r\u001b[K     |██████████████████████▍         | 2.5 MB 27.2 MB/s eta 0:00:01\r\u001b[K     |██████████████████████▌         | 2.6 MB 27.2 MB/s eta 0:00:01\r\u001b[K     |██████████████████████▋         | 2.6 MB 27.2 MB/s eta 0:00:01\r\u001b[K     |██████████████████████▊         | 2.6 MB 27.2 MB/s eta 0:00:01\r\u001b[K     |██████████████████████▊         | 2.6 MB 27.2 MB/s eta 0:00:01\r\u001b[K     |██████████████████████▉         | 2.6 MB 27.2 MB/s eta 0:00:01\r\u001b[K     |███████████████████████         | 2.6 MB 27.2 MB/s eta 0:00:01\r\u001b[K     |███████████████████████         | 2.6 MB 27.2 MB/s eta 0:00:01\r\u001b[K     |███████████████████████▏        | 2.6 MB 27.2 MB/s eta 0:00:01\r\u001b[K     |███████████████████████▏        | 2.6 MB 27.2 MB/s eta 0:00:01\r\u001b[K     |███████████████████████▎        | 2.7 MB 27.2 MB/s eta 0:00:01\r\u001b[K     |███████████████████████▍        | 2.7 MB 27.2 MB/s eta 0:00:01\r\u001b[K     |███████████████████████▌        | 2.7 MB 27.2 MB/s eta 0:00:01\r\u001b[K     |███████████████████████▋        | 2.7 MB 27.2 MB/s eta 0:00:01\r\u001b[K     |███████████████████████▋        | 2.7 MB 27.2 MB/s eta 0:00:01\r\u001b[K     |███████████████████████▊        | 2.7 MB 27.2 MB/s eta 0:00:01\r\u001b[K     |███████████████████████▉        | 2.7 MB 27.2 MB/s eta 0:00:01\r\u001b[K     |████████████████████████        | 2.7 MB 27.2 MB/s eta 0:00:01\r\u001b[K     |████████████████████████        | 2.7 MB 27.2 MB/s eta 0:00:01\r\u001b[K     |████████████████████████        | 2.7 MB 27.2 MB/s eta 0:00:01\r\u001b[K     |████████████████████████▏       | 2.8 MB 27.2 MB/s eta 0:00:01\r\u001b[K     |████████████████████████▎       | 2.8 MB 27.2 MB/s eta 0:00:01\r\u001b[K     |████████████████████████▍       | 2.8 MB 27.2 MB/s eta 0:00:01\r\u001b[K     |████████████████████████▌       | 2.8 MB 27.2 MB/s eta 0:00:01\r\u001b[K     |████████████████████████▋       | 2.8 MB 27.2 MB/s eta 0:00:01\r\u001b[K     |████████████████████████▋       | 2.8 MB 27.2 MB/s eta 0:00:01\r\u001b[K     |████████████████████████▊       | 2.8 MB 27.2 MB/s eta 0:00:01\r\u001b[K     |████████████████████████▉       | 2.8 MB 27.2 MB/s eta 0:00:01\r\u001b[K     |█████████████████████████       | 2.8 MB 27.2 MB/s eta 0:00:01\r\u001b[K     |█████████████████████████       | 2.8 MB 27.2 MB/s eta 0:00:01\r\u001b[K     |█████████████████████████       | 2.9 MB 27.2 MB/s eta 0:00:01\r\u001b[K     |█████████████████████████▏      | 2.9 MB 27.2 MB/s eta 0:00:01\r\u001b[K     |█████████████████████████▎      | 2.9 MB 27.2 MB/s eta 0:00:01\r\u001b[K     |█████████████████████████▍      | 2.9 MB 27.2 MB/s eta 0:00:01\r\u001b[K     |█████████████████████████▌      | 2.9 MB 27.2 MB/s eta 0:00:01\r\u001b[K     |█████████████████████████▌      | 2.9 MB 27.2 MB/s eta 0:00:01\r\u001b[K     |█████████████████████████▋      | 2.9 MB 27.2 MB/s eta 0:00:01\r\u001b[K     |█████████████████████████▊      | 2.9 MB 27.2 MB/s eta 0:00:01\r\u001b[K     |█████████████████████████▉      | 2.9 MB 27.2 MB/s eta 0:00:01\r\u001b[K     |██████████████████████████      | 2.9 MB 27.2 MB/s eta 0:00:01\r\u001b[K     |██████████████████████████      | 3.0 MB 27.2 MB/s eta 0:00:01\r\u001b[K     |██████████████████████████      | 3.0 MB 27.2 MB/s eta 0:00:01\r\u001b[K     |██████████████████████████▏     | 3.0 MB 27.2 MB/s eta 0:00:01\r\u001b[K     |██████████████████████████▎     | 3.0 MB 27.2 MB/s eta 0:00:01\r\u001b[K     |██████████████████████████▍     | 3.0 MB 27.2 MB/s eta 0:00:01\r\u001b[K     |██████████████████████████▌     | 3.0 MB 27.2 MB/s eta 0:00:01\r\u001b[K     |██████████████████████████▌     | 3.0 MB 27.2 MB/s eta 0:00:01\r\u001b[K     |██████████████████████████▋     | 3.0 MB 27.2 MB/s eta 0:00:01\r\u001b[K     |██████████████████████████▊     | 3.0 MB 27.2 MB/s eta 0:00:01\r\u001b[K     |██████████████████████████▉     | 3.1 MB 27.2 MB/s eta 0:00:01\r\u001b[K     |███████████████████████████     | 3.1 MB 27.2 MB/s eta 0:00:01\r\u001b[K     |███████████████████████████     | 3.1 MB 27.2 MB/s eta 0:00:01\r\u001b[K     |███████████████████████████     | 3.1 MB 27.2 MB/s eta 0:00:01\r\u001b[K     |███████████████████████████▏    | 3.1 MB 27.2 MB/s eta 0:00:01\r\u001b[K     |███████████████████████████▎    | 3.1 MB 27.2 MB/s eta 0:00:01\r\u001b[K     |███████████████████████████▍    | 3.1 MB 27.2 MB/s eta 0:00:01\r\u001b[K     |███████████████████████████▍    | 3.1 MB 27.2 MB/s eta 0:00:01\r\u001b[K     |███████████████████████████▌    | 3.1 MB 27.2 MB/s eta 0:00:01\r\u001b[K     |███████████████████████████▋    | 3.1 MB 27.2 MB/s eta 0:00:01\r\u001b[K     |███████████████████████████▊    | 3.2 MB 27.2 MB/s eta 0:00:01\r\u001b[K     |███████████████████████████▉    | 3.2 MB 27.2 MB/s eta 0:00:01\r\u001b[K     |███████████████████████████▉    | 3.2 MB 27.2 MB/s eta 0:00:01\r\u001b[K     |████████████████████████████    | 3.2 MB 27.2 MB/s eta 0:00:01\r\u001b[K     |████████████████████████████    | 3.2 MB 27.2 MB/s eta 0:00:01\r\u001b[K     |████████████████████████████▏   | 3.2 MB 27.2 MB/s eta 0:00:01\r\u001b[K     |████████████████████████████▎   | 3.2 MB 27.2 MB/s eta 0:00:01\r\u001b[K     |████████████████████████████▍   | 3.2 MB 27.2 MB/s eta 0:00:01\r\u001b[K     |████████████████████████████▍   | 3.2 MB 27.2 MB/s eta 0:00:01\r\u001b[K     |████████████████████████████▌   | 3.2 MB 27.2 MB/s eta 0:00:01\r\u001b[K     |████████████████████████████▋   | 3.3 MB 27.2 MB/s eta 0:00:01\r\u001b[K     |████████████████████████████▊   | 3.3 MB 27.2 MB/s eta 0:00:01\r\u001b[K     |████████████████████████████▉   | 3.3 MB 27.2 MB/s eta 0:00:01\r\u001b[K     |████████████████████████████▉   | 3.3 MB 27.2 MB/s eta 0:00:01\r\u001b[K     |█████████████████████████████   | 3.3 MB 27.2 MB/s eta 0:00:01\r\u001b[K     |█████████████████████████████   | 3.3 MB 27.2 MB/s eta 0:00:01\r\u001b[K     |█████████████████████████████▏  | 3.3 MB 27.2 MB/s eta 0:00:01\r\u001b[K     |█████████████████████████████▎  | 3.3 MB 27.2 MB/s eta 0:00:01\r\u001b[K     |█████████████████████████████▎  | 3.3 MB 27.2 MB/s eta 0:00:01\r\u001b[K     |█████████████████████████████▍  | 3.3 MB 27.2 MB/s eta 0:00:01\r\u001b[K     |█████████████████████████████▌  | 3.4 MB 27.2 MB/s eta 0:00:01\r\u001b[K     |█████████████████████████████▋  | 3.4 MB 27.2 MB/s eta 0:00:01\r\u001b[K     |█████████████████████████████▊  | 3.4 MB 27.2 MB/s eta 0:00:01\r\u001b[K     |█████████████████████████████▊  | 3.4 MB 27.2 MB/s eta 0:00:01\r\u001b[K     |█████████████████████████████▉  | 3.4 MB 27.2 MB/s eta 0:00:01\r\u001b[K     |██████████████████████████████  | 3.4 MB 27.2 MB/s eta 0:00:01\r\u001b[K     |██████████████████████████████  | 3.4 MB 27.2 MB/s eta 0:00:01\r\u001b[K     |██████████████████████████████▏ | 3.4 MB 27.2 MB/s eta 0:00:01\r\u001b[K     |██████████████████████████████▎ | 3.4 MB 27.2 MB/s eta 0:00:01\r\u001b[K     |██████████████████████████████▎ | 3.5 MB 27.2 MB/s eta 0:00:01\r\u001b[K     |██████████████████████████████▍ | 3.5 MB 27.2 MB/s eta 0:00:01\r\u001b[K     |██████████████████████████████▌ | 3.5 MB 27.2 MB/s eta 0:00:01\r\u001b[K     |██████████████████████████████▋ | 3.5 MB 27.2 MB/s eta 0:00:01\r\u001b[K     |██████████████████████████████▊ | 3.5 MB 27.2 MB/s eta 0:00:01\r\u001b[K     |██████████████████████████████▊ | 3.5 MB 27.2 MB/s eta 0:00:01\r\u001b[K     |██████████████████████████████▉ | 3.5 MB 27.2 MB/s eta 0:00:01\r\u001b[K     |███████████████████████████████ | 3.5 MB 27.2 MB/s eta 0:00:01\r\u001b[K     |███████████████████████████████ | 3.5 MB 27.2 MB/s eta 0:00:01\r\u001b[K     |███████████████████████████████▏| 3.5 MB 27.2 MB/s eta 0:00:01\r\u001b[K     |███████████████████████████████▏| 3.6 MB 27.2 MB/s eta 0:00:01\r\u001b[K     |███████████████████████████████▎| 3.6 MB 27.2 MB/s eta 0:00:01\r\u001b[K     |███████████████████████████████▍| 3.6 MB 27.2 MB/s eta 0:00:01\r\u001b[K     |███████████████████████████████▌| 3.6 MB 27.2 MB/s eta 0:00:01\r\u001b[K     |███████████████████████████████▋| 3.6 MB 27.2 MB/s eta 0:00:01\r\u001b[K     |███████████████████████████████▋| 3.6 MB 27.2 MB/s eta 0:00:01\r\u001b[K     |███████████████████████████████▊| 3.6 MB 27.2 MB/s eta 0:00:01\r\u001b[K     |███████████████████████████████▉| 3.6 MB 27.2 MB/s eta 0:00:01\r\u001b[K     |████████████████████████████████| 3.6 MB 27.2 MB/s eta 0:00:01\r\u001b[K     |████████████████████████████████| 3.6 MB 27.2 MB/s \n",
            "\u001b[?25h"
          ]
        }
      ]
    },
    {
      "cell_type": "code",
      "source": [
        "!pip install captcha"
      ],
      "metadata": {
        "colab": {
          "base_uri": "https://localhost:8080/"
        },
        "id": "xUwxH6oXoWEH",
        "outputId": "8c5d9330-c762-4444-9af4-f44ae43b1360"
      },
      "execution_count": 8,
      "outputs": [
        {
          "output_type": "stream",
          "name": "stdout",
          "text": [
            "Looking in indexes: https://pypi.org/simple, https://us-python.pkg.dev/colab-wheels/public/simple/\n",
            "Collecting captcha\n",
            "  Downloading captcha-0.4-py3-none-any.whl (102 kB)\n",
            "\u001b[K     |████████████████████████████████| 102 kB 33.7 MB/s \n",
            "\u001b[?25hRequirement already satisfied: Pillow in /usr/local/lib/python3.7/dist-packages (from captcha) (7.1.2)\n",
            "Installing collected packages: captcha\n",
            "Successfully installed captcha-0.4\n"
          ]
        }
      ]
    },
    {
      "cell_type": "code",
      "source": [
        "from pyngrok import ngrok"
      ],
      "metadata": {
        "id": "I6TeMis5799s"
      },
      "execution_count": 9,
      "outputs": []
    },
    {
      "cell_type": "markdown",
      "source": [
        "#Codigo principal"
      ],
      "metadata": {
        "id": "Mt33KyNvOs6l"
      }
    },
    {
      "cell_type": "code",
      "source": [
        "%%writefile app.py\n",
        "import torch\n",
        "import numpy as np\n",
        "import pandas as pd\n",
        "import streamlit as st\n",
        "from PIL import Image, ImageOps\n",
        "from captcha.image import ImageCaptcha\n",
        "import cv2\n",
        "from google.colab.patches import cv2_imshow\n",
        "import detectron2\n",
        "from detectron2.utils.logger import setup_logger\n",
        "setup_logger()\n",
        "from detectron2 import model_zoo\n",
        "from detectron2.engine import DefaultPredictor\n",
        "from detectron2.config import get_cfg\n",
        "from detectron2.utils.visualizer import Visualizer\n",
        "from detectron2.data import MetadataCatalog, DatasetCatalog\n",
        "from PIL import Image, ImageOps\n",
        "\n",
        "\n",
        "#Função de teste: Essa função contem a IA do Detectron2, que verifica se \n",
        "#a imagem atende aos requisitos, e gera uma lista com oque achou.\n",
        "def teste(image):\n",
        "  image = cv2.imread(image)\n",
        "  cfg = get_cfg()\n",
        "  cfg.merge_from_file(model_zoo.get_config_file(\"COCO-Detection/faster_rcnn_X_101_32x8d_FPN_3x.yaml\"))\n",
        "  cfg.MODEL.WEIGHTS = model_zoo.get_checkpoint_url(\"COCO-Detection/faster_rcnn_X_101_32x8d_FPN_3x.yaml\")\n",
        "  cfg.MODEL.ROI_HEADS.SCORE_THRESH_TEST = 0.6\n",
        "  predictor = DefaultPredictor(cfg)\n",
        "  outputs = predictor(image)\n",
        "  outputs[\"instances\"].pred_classes\n",
        "  outputs[\"instances\"].pred_boxes\n",
        "  achados = []\n",
        "  for data in outputs[\"instances\"].pred_classes:\n",
        "    num = data.item()\n",
        "    lista = (MetadataCatalog.get(cfg.DATASETS.TRAIN[0]).thing_classes[num])\n",
        "    if 'person' in lista:\n",
        "      x = lista\n",
        "      achados.append(x)\n",
        "    if 'apple' in lista:\n",
        "      x = lista\n",
        "      achados.append(x)\n",
        "    if 'clock' in lista:\n",
        "      x = lista\n",
        "      achados.append(x)\n",
        "    if 'pen' in lista:\n",
        "      x = lista\n",
        "      achados.append(x)\n",
        "  return achados\n",
        "\n",
        "\n",
        "def predImage(image):\n",
        "  image = cv2.imread(image)\n",
        "  cfg = get_cfg()\n",
        "  cfg.merge_from_file(model_zoo.get_config_file(\"COCO-Detection/faster_rcnn_X_101_32x8d_FPN_3x.yaml\"))\n",
        "  cfg.MODEL.WEIGHTS = model_zoo.get_checkpoint_url(\"COCO-Detection/faster_rcnn_X_101_32x8d_FPN_3x.yaml\")\n",
        "  cfg.MODEL.ROI_HEADS.SCORE_THRESH_TEST = 0.6\n",
        "  predictor = DefaultPredictor(cfg)\n",
        "  outputs = predictor(image)\n",
        "  outputs[\"instances\"].pred_classes\n",
        "  outputs[\"instances\"].pred_boxes\n",
        "  viz = Visualizer(image[:,:,::-1], MetadataCatalog.get(cfg.DATASETS.TRAIN[0]))\n",
        "  outputs = viz.draw_instance_predictions(outputs[\"instances\"].to(\"cpu\"))\n",
        "  filename = 'result.jpg'\n",
        "  cv2.imwrite(filename, outputs.get_image()[:,:,::-1])\n",
        "  cv2.waitKey(0)\n",
        "  cv2.destroyAllWindows()\n",
        "  \n",
        "\n",
        "\n",
        "#Função de Criação do Captcha: Essa função cria o captcha de forma aleatoria.\n",
        "def criandoCaptcha():\n",
        "  captcha_text = '12teste'\n",
        "  image_info = ImageCaptcha(width=250, height=100)\n",
        "  source = image_info.generate(captcha_text)\n",
        "  image_info.write(captcha_text, 'Captcha.png')\n",
        "  imagemCaptcha = cv2.imread(\"./Captcha.png\")\n",
        "  return imagemCaptcha\n",
        "\n",
        "\n",
        "\n",
        "#Função de teste do Captcha: Essa função testa se o usuario escreveu de forma\n",
        "#correta o que está escrito na imagem do Captcha.\n",
        "def captchaTeste(item):\n",
        "  captcha_text = '12teste'\n",
        "  if item == captcha_text:\n",
        "    st.success(\"Parabéns o Captcha está certo\")\n",
        "    return True\n",
        "  elif item != captcha_text:\n",
        "    st.warning(\"Digite o Captcha\")\n",
        "    return False\n",
        "\n",
        "\n",
        "#Função Principal: Essa função contem todo o codigo principal.\n",
        "def main():\n",
        "  st.set_page_config(layout=\"centered\", page_icon=\"💬\", page_title=\"Banco com defesa de IA\")\n",
        "  st.title(\"💬 Banco com defesa de IA\")\n",
        "  st.markdown(\n",
        "    \"#### Para realização do seu cadastro no nosso APP, porfavor passe por essas seguranças\"\n",
        ")\n",
        "  esquerda, direita = st.columns(2)\n",
        "  # formulario esquerda\n",
        "  formEsq = esquerda.form(\"template_formEsq\")\n",
        "  formEsq.markdown(\"### Captcha\")\n",
        "  botaoCap = formEsq.form_submit_button(\"Clique aqui para ver o captcha\")\n",
        "  if botaoCap:\n",
        "    formEsq.image(criandoCaptcha(), caption = '',use_column_width='always')\n",
        "\n",
        "  # formulario direita\n",
        "  formDir = direita.form(\"template_formDir\")\n",
        "  formDir.markdown(\"### Digite aqui\")\n",
        "  escrita = formDir.text_input('')\n",
        "  botaoVer = formDir.form_submit_button(\"Verificar\")\n",
        "  formDir.markdown(\"\")\n",
        "  formDir.markdown(\"\")\n",
        "  x = captchaTeste(escrita)\n",
        "  if x == True:\n",
        "    st.markdown(\"#### Por favor, faça upload de uma self\")\n",
        "    st.write(\"Criterios: Ter duas pessoas na self ou Self segurando uma (maçã,caneta ou um relogio)\")\n",
        "    imagem = st.file_uploader(\"\", type=['png','jpeg','jpg'])\n",
        "    ladoEsq, meio ,ladoDir = st.columns(3)\n",
        "    if imagem is not None:\n",
        "      img = Image.open(imagem)\n",
        "      ladoEsq.image(img)\n",
        "      with open(imagem.name, mode = \"wb\") as f:\n",
        "        f.write(imagem.getbuffer())\n",
        "      predImage(imagem.name)\n",
        "    verificar = meio.button(\"Verificar a self escolhida\")\n",
        "    if verificar:\n",
        "      img_ = Image.open(\"result.jpg\")\n",
        "      ladoDir.image(img_)\n",
        "      try:\n",
        "        lista = teste(imagem.name)\n",
        "        if ('person' in lista and 'apple' in lista) or ('person' in lista and 'clock' in lista) or ('person' in lista and 'pen' in lista) or (lista.count('person') >= 2):\n",
        "          meio.success(\"🎉 Parabéns você tem permissão de fazer o cadastro\")\n",
        "          st.balloons()\n",
        "        else:\n",
        "          meio.error(\"Infelizmente não foi permitido realizar o cadastro\")\n",
        "          meio.error(\"Por favor faça a self novamente, mas seguindo os criterios\")\n",
        "      except:\n",
        "        st.warning(\"Por favor, faça upload da sua self\")\n",
        "\n",
        "if __name__=='__main__': \n",
        "  main()"
      ],
      "metadata": {
        "colab": {
          "base_uri": "https://localhost:8080/"
        },
        "id": "DFkoQLZiAvCh",
        "outputId": "1c9b5d9d-1bdb-4758-a1a7-b525d5b59381"
      },
      "execution_count": 10,
      "outputs": [
        {
          "output_type": "stream",
          "name": "stdout",
          "text": [
            "Writing app.py\n"
          ]
        }
      ]
    },
    {
      "cell_type": "code",
      "source": [
        "!streamlit run app.py & npx localtunnel --port 8501"
      ],
      "metadata": {
        "colab": {
          "base_uri": "https://localhost:8080/"
        },
        "id": "amkZwV0InO2x",
        "outputId": "71f5cda0-e370-45c8-e960-dd51d6a9ba78"
      },
      "execution_count": 15,
      "outputs": [
        {
          "output_type": "stream",
          "name": "stdout",
          "text": [
            "2022-09-06 23:38:04.537 INFO    numexpr.utils: NumExpr defaulting to 2 threads.\n",
            "\u001b[0m\n",
            "\u001b[34m\u001b[1m  You can now view your Streamlit app in your browser.\u001b[0m\n",
            "\u001b[0m\n",
            "\u001b[34m  Network URL: \u001b[0m\u001b[1mhttp://172.28.0.2:8501\u001b[0m\n",
            "\u001b[34m  External URL: \u001b[0m\u001b[1mhttp://34.143.179.4:8501\u001b[0m\n",
            "\u001b[0m\n",
            "\u001b[K\u001b[?25hnpx: installed 22 in 4.434s\n",
            "your url is: https://social-webs-shave-34-143-179-4.loca.lt\n",
            "2022-09-06 23:39:06.782 [Checkpointer] Loading from https://dl.fbaipublicfiles.com/detectron2/COCO-Detection/faster_rcnn_X_101_32x8d_FPN_3x/139173657/model_final_68b088.pkl ...\n",
            "2022-09-06 23:39:06.783 Downloading https://dl.fbaipublicfiles.com/detectron2/COCO-Detection/faster_rcnn_X_101_32x8d_FPN_3x/139173657/model_final_68b088.pkl ...\n",
            "2022-09-06 23:39:06.783 Downloading from https://dl.fbaipublicfiles.com/detectron2/COCO-Detection/faster_rcnn_X_101_32x8d_FPN_3x/139173657/model_final_68b088.pkl ...\n",
            "model_final_68b088.pkl: 421MB [00:24, 17.5MB/s]               \n",
            "2022-09-06 23:39:30.815 Successfully downloaded /root/.torch/iopath_cache/detectron2/COCO-Detection/faster_rcnn_X_101_32x8d_FPN_3x/139173657/model_final_68b088.pkl. 420839087 bytes.\n",
            "2022-09-06 23:39:30.815 URL https://dl.fbaipublicfiles.com/detectron2/COCO-Detection/faster_rcnn_X_101_32x8d_FPN_3x/139173657/model_final_68b088.pkl cached in /root/.torch/iopath_cache/detectron2/COCO-Detection/faster_rcnn_X_101_32x8d_FPN_3x/139173657/model_final_68b088.pkl\n",
            "2022-09-06 23:39:31.138 Reading a file from 'Detectron2 Model Zoo'\n",
            "2022-09-06 23:39:31.298 The checkpoint state_dict contains keys that are not used by the model:\n",
            "  \u001b[35mproposal_generator.anchor_generator.cell_anchors.{0, 1, 2, 3, 4}\u001b[0m\n",
            "/usr/local/lib/python3.7/dist-packages/detectron2/modeling/roi_heads/fast_rcnn.py:154: UserWarning: This overload of nonzero is deprecated:\n",
            "\tnonzero()\n",
            "Consider using one of the following signatures instead:\n",
            "\tnonzero(*, bool as_tuple) (Triggered internally at  /pytorch/torch/csrc/utils/python_arg_parser.cpp:882.)\n",
            "  filter_inds = filter_mask.nonzero()\n",
            "2022-09-06 23:39:40.963 [Checkpointer] Loading from https://dl.fbaipublicfiles.com/detectron2/COCO-Detection/faster_rcnn_X_101_32x8d_FPN_3x/139173657/model_final_68b088.pkl ...\n",
            "2022-09-06 23:39:41.198 Reading a file from 'Detectron2 Model Zoo'\n",
            "2022-09-06 23:39:41.351 The checkpoint state_dict contains keys that are not used by the model:\n",
            "  \u001b[35mproposal_generator.anchor_generator.cell_anchors.{0, 1, 2, 3, 4}\u001b[0m\n",
            "2022-09-06 23:39:45.140 [Checkpointer] Loading from https://dl.fbaipublicfiles.com/detectron2/COCO-Detection/faster_rcnn_X_101_32x8d_FPN_3x/139173657/model_final_68b088.pkl ...\n",
            "2022-09-06 23:39:45.363 Reading a file from 'Detectron2 Model Zoo'\n",
            "2022-09-06 23:39:45.512 The checkpoint state_dict contains keys that are not used by the model:\n",
            "  \u001b[35mproposal_generator.anchor_generator.cell_anchors.{0, 1, 2, 3, 4}\u001b[0m\n",
            "2022-09-06 23:39:47.841 [Checkpointer] Loading from https://dl.fbaipublicfiles.com/detectron2/COCO-Detection/faster_rcnn_X_101_32x8d_FPN_3x/139173657/model_final_68b088.pkl ...\n",
            "2022-09-06 23:39:48.061 Reading a file from 'Detectron2 Model Zoo'\n",
            "2022-09-06 23:39:48.215 The checkpoint state_dict contains keys that are not used by the model:\n",
            "  \u001b[35mproposal_generator.anchor_generator.cell_anchors.{0, 1, 2, 3, 4}\u001b[0m\n",
            "2022-09-06 23:41:13.181 [Checkpointer] Loading from https://dl.fbaipublicfiles.com/detectron2/COCO-Detection/faster_rcnn_X_101_32x8d_FPN_3x/139173657/model_final_68b088.pkl ...\n",
            "2022-09-06 23:41:13.412 Reading a file from 'Detectron2 Model Zoo'\n",
            "2022-09-06 23:41:13.560 The checkpoint state_dict contains keys that are not used by the model:\n",
            "  \u001b[35mproposal_generator.anchor_generator.cell_anchors.{0, 1, 2, 3, 4}\u001b[0m\n",
            "2022-09-06 23:41:15.915 [Checkpointer] Loading from https://dl.fbaipublicfiles.com/detectron2/COCO-Detection/faster_rcnn_X_101_32x8d_FPN_3x/139173657/model_final_68b088.pkl ...\n",
            "2022-09-06 23:41:16.135 Reading a file from 'Detectron2 Model Zoo'\n",
            "2022-09-06 23:41:16.285 The checkpoint state_dict contains keys that are not used by the model:\n",
            "  \u001b[35mproposal_generator.anchor_generator.cell_anchors.{0, 1, 2, 3, 4}\u001b[0m\n",
            "2022-09-06 23:41:21.722 [Checkpointer] Loading from https://dl.fbaipublicfiles.com/detectron2/COCO-Detection/faster_rcnn_X_101_32x8d_FPN_3x/139173657/model_final_68b088.pkl ...\n",
            "2022-09-06 23:41:21.953 Reading a file from 'Detectron2 Model Zoo'\n",
            "2022-09-06 23:41:22.107 The checkpoint state_dict contains keys that are not used by the model:\n",
            "  \u001b[35mproposal_generator.anchor_generator.cell_anchors.{0, 1, 2, 3, 4}\u001b[0m\n",
            "2022-09-06 23:41:24.371 [Checkpointer] Loading from https://dl.fbaipublicfiles.com/detectron2/COCO-Detection/faster_rcnn_X_101_32x8d_FPN_3x/139173657/model_final_68b088.pkl ...\n",
            "2022-09-06 23:41:24.589 Reading a file from 'Detectron2 Model Zoo'\n",
            "2022-09-06 23:41:24.742 The checkpoint state_dict contains keys that are not used by the model:\n",
            "  \u001b[35mproposal_generator.anchor_generator.cell_anchors.{0, 1, 2, 3, 4}\u001b[0m\n",
            "2022-09-06 23:41:26.838 [Checkpointer] Loading from https://dl.fbaipublicfiles.com/detectron2/COCO-Detection/faster_rcnn_X_101_32x8d_FPN_3x/139173657/model_final_68b088.pkl ...\n",
            "2022-09-06 23:41:27.056 Reading a file from 'Detectron2 Model Zoo'\n",
            "2022-09-06 23:41:27.212 The checkpoint state_dict contains keys that are not used by the model:\n",
            "  \u001b[35mproposal_generator.anchor_generator.cell_anchors.{0, 1, 2, 3, 4}\u001b[0m\n",
            "2022-09-06 23:41:41.191 [Checkpointer] Loading from https://dl.fbaipublicfiles.com/detectron2/COCO-Detection/faster_rcnn_X_101_32x8d_FPN_3x/139173657/model_final_68b088.pkl ...\n",
            "2022-09-06 23:41:41.411 Reading a file from 'Detectron2 Model Zoo'\n",
            "2022-09-06 23:41:41.563 The checkpoint state_dict contains keys that are not used by the model:\n",
            "  \u001b[35mproposal_generator.anchor_generator.cell_anchors.{0, 1, 2, 3, 4}\u001b[0m\n",
            "2022-09-06 23:41:56.530 [Checkpointer] Loading from https://dl.fbaipublicfiles.com/detectron2/COCO-Detection/faster_rcnn_X_101_32x8d_FPN_3x/139173657/model_final_68b088.pkl ...\n",
            "2022-09-06 23:41:56.743 Reading a file from 'Detectron2 Model Zoo'\n",
            "2022-09-06 23:41:56.894 The checkpoint state_dict contains keys that are not used by the model:\n",
            "  \u001b[35mproposal_generator.anchor_generator.cell_anchors.{0, 1, 2, 3, 4}\u001b[0m\n",
            "2022-09-06 23:42:00.739 [Checkpointer] Loading from https://dl.fbaipublicfiles.com/detectron2/COCO-Detection/faster_rcnn_X_101_32x8d_FPN_3x/139173657/model_final_68b088.pkl ...\n",
            "2022-09-06 23:42:00.955 Reading a file from 'Detectron2 Model Zoo'\n",
            "2022-09-06 23:42:01.107 The checkpoint state_dict contains keys that are not used by the model:\n",
            "  \u001b[35mproposal_generator.anchor_generator.cell_anchors.{0, 1, 2, 3, 4}\u001b[0m\n",
            "2022-09-06 23:42:03.526 [Checkpointer] Loading from https://dl.fbaipublicfiles.com/detectron2/COCO-Detection/faster_rcnn_X_101_32x8d_FPN_3x/139173657/model_final_68b088.pkl ...\n",
            "2022-09-06 23:42:03.741 Reading a file from 'Detectron2 Model Zoo'\n",
            "2022-09-06 23:42:03.892 The checkpoint state_dict contains keys that are not used by the model:\n",
            "  \u001b[35mproposal_generator.anchor_generator.cell_anchors.{0, 1, 2, 3, 4}\u001b[0m\n",
            "2022-09-06 23:43:00.429 [Checkpointer] Loading from https://dl.fbaipublicfiles.com/detectron2/COCO-Detection/faster_rcnn_X_101_32x8d_FPN_3x/139173657/model_final_68b088.pkl ...\n",
            "2022-09-06 23:43:00.651 Reading a file from 'Detectron2 Model Zoo'\n",
            "2022-09-06 23:43:00.797 The checkpoint state_dict contains keys that are not used by the model:\n",
            "  \u001b[35mproposal_generator.anchor_generator.cell_anchors.{0, 1, 2, 3, 4}\u001b[0m\n",
            "2022-09-06 23:43:03.230 [Checkpointer] Loading from https://dl.fbaipublicfiles.com/detectron2/COCO-Detection/faster_rcnn_X_101_32x8d_FPN_3x/139173657/model_final_68b088.pkl ...\n",
            "2022-09-06 23:43:03.442 Reading a file from 'Detectron2 Model Zoo'\n",
            "2022-09-06 23:43:03.593 The checkpoint state_dict contains keys that are not used by the model:\n",
            "  \u001b[35mproposal_generator.anchor_generator.cell_anchors.{0, 1, 2, 3, 4}\u001b[0m\n",
            "2022-09-06 23:43:18.701 [Checkpointer] Loading from https://dl.fbaipublicfiles.com/detectron2/COCO-Detection/faster_rcnn_X_101_32x8d_FPN_3x/139173657/model_final_68b088.pkl ...\n",
            "2022-09-06 23:43:18.915 Reading a file from 'Detectron2 Model Zoo'\n",
            "2022-09-06 23:43:19.072 The checkpoint state_dict contains keys that are not used by the model:\n",
            "  \u001b[35mproposal_generator.anchor_generator.cell_anchors.{0, 1, 2, 3, 4}\u001b[0m\n",
            "2022-09-06 23:43:22.800 [Checkpointer] Loading from https://dl.fbaipublicfiles.com/detectron2/COCO-Detection/faster_rcnn_X_101_32x8d_FPN_3x/139173657/model_final_68b088.pkl ...\n",
            "2022-09-06 23:43:23.022 Reading a file from 'Detectron2 Model Zoo'\n",
            "2022-09-06 23:43:23.175 The checkpoint state_dict contains keys that are not used by the model:\n",
            "  \u001b[35mproposal_generator.anchor_generator.cell_anchors.{0, 1, 2, 3, 4}\u001b[0m\n",
            "2022-09-06 23:43:25.704 [Checkpointer] Loading from https://dl.fbaipublicfiles.com/detectron2/COCO-Detection/faster_rcnn_X_101_32x8d_FPN_3x/139173657/model_final_68b088.pkl ...\n",
            "2022-09-06 23:43:25.913 Reading a file from 'Detectron2 Model Zoo'\n",
            "2022-09-06 23:43:26.065 The checkpoint state_dict contains keys that are not used by the model:\n",
            "  \u001b[35mproposal_generator.anchor_generator.cell_anchors.{0, 1, 2, 3, 4}\u001b[0m\n",
            "\u001b[34m  Stopping...\u001b[0m\n",
            "^C\n"
          ]
        }
      ]
    }
  ]
}