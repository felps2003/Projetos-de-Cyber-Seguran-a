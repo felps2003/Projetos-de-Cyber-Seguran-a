{
  "nbformat": 4,
  "nbformat_minor": 0,
  "metadata": {
    "colab": {
      "name": "CheckPoint_CyberV3.ipynb",
      "provenance": [],
      "authorship_tag": "ABX9TyNcooB2CZS51PltfXpUc8QJ",
      "include_colab_link": true
    },
    "kernelspec": {
      "name": "python3",
      "display_name": "Python 3"
    },
    "language_info": {
      "name": "python"
    }
  },
  "cells": [
    {
      "cell_type": "markdown",
      "metadata": {
        "id": "view-in-github",
        "colab_type": "text"
      },
      "source": [
        "<a href=\"https://colab.research.google.com/github/felps2003/checkPoint_Cyber/blob/main/CheckPoint_CyberV3.ipynb\" target=\"_parent\"><img src=\"https://colab.research.google.com/assets/colab-badge.svg\" alt=\"Open In Colab\"/></a>"
      ]
    },
    {
      "cell_type": "code",
      "execution_count": 1,
      "metadata": {
        "colab": {
          "base_uri": "https://localhost:8080/"
        },
        "id": "P6BYJeQTZhde",
        "outputId": "a97bd947-739c-4a69-f581-37d3cbd3298f"
      },
      "outputs": [
        {
          "output_type": "stream",
          "name": "stdout",
          "text": [
            "\u001b[?25l\r\u001b[K     |▍                               | 10 kB 19.8 MB/s eta 0:00:01\r\u001b[K     |▉                               | 20 kB 23.5 MB/s eta 0:00:01\r\u001b[K     |█▎                              | 30 kB 27.6 MB/s eta 0:00:01\r\u001b[K     |█▊                              | 40 kB 20.2 MB/s eta 0:00:01\r\u001b[K     |██▏                             | 51 kB 8.0 MB/s eta 0:00:01\r\u001b[K     |██▋                             | 61 kB 9.4 MB/s eta 0:00:01\r\u001b[K     |███                             | 71 kB 8.4 MB/s eta 0:00:01\r\u001b[K     |███▌                            | 81 kB 9.3 MB/s eta 0:00:01\r\u001b[K     |████                            | 92 kB 10.2 MB/s eta 0:00:01\r\u001b[K     |████▍                           | 102 kB 8.4 MB/s eta 0:00:01\r\u001b[K     |████▉                           | 112 kB 8.4 MB/s eta 0:00:01\r\u001b[K     |█████▎                          | 122 kB 8.4 MB/s eta 0:00:01\r\u001b[K     |█████▊                          | 133 kB 8.4 MB/s eta 0:00:01\r\u001b[K     |██████▏                         | 143 kB 8.4 MB/s eta 0:00:01\r\u001b[K     |██████▋                         | 153 kB 8.4 MB/s eta 0:00:01\r\u001b[K     |███████                         | 163 kB 8.4 MB/s eta 0:00:01\r\u001b[K     |███████▌                        | 174 kB 8.4 MB/s eta 0:00:01\r\u001b[K     |████████                        | 184 kB 8.4 MB/s eta 0:00:01\r\u001b[K     |████████▍                       | 194 kB 8.4 MB/s eta 0:00:01\r\u001b[K     |████████▉                       | 204 kB 8.4 MB/s eta 0:00:01\r\u001b[K     |█████████▎                      | 215 kB 8.4 MB/s eta 0:00:01\r\u001b[K     |█████████▊                      | 225 kB 8.4 MB/s eta 0:00:01\r\u001b[K     |██████████▏                     | 235 kB 8.4 MB/s eta 0:00:01\r\u001b[K     |██████████▌                     | 245 kB 8.4 MB/s eta 0:00:01\r\u001b[K     |███████████                     | 256 kB 8.4 MB/s eta 0:00:01\r\u001b[K     |███████████▍                    | 266 kB 8.4 MB/s eta 0:00:01\r\u001b[K     |███████████▉                    | 276 kB 8.4 MB/s eta 0:00:01\r\u001b[K     |████████████▎                   | 286 kB 8.4 MB/s eta 0:00:01\r\u001b[K     |████████████▊                   | 296 kB 8.4 MB/s eta 0:00:01\r\u001b[K     |█████████████▏                  | 307 kB 8.4 MB/s eta 0:00:01\r\u001b[K     |█████████████▋                  | 317 kB 8.4 MB/s eta 0:00:01\r\u001b[K     |██████████████                  | 327 kB 8.4 MB/s eta 0:00:01\r\u001b[K     |██████████████▌                 | 337 kB 8.4 MB/s eta 0:00:01\r\u001b[K     |███████████████                 | 348 kB 8.4 MB/s eta 0:00:01\r\u001b[K     |███████████████▍                | 358 kB 8.4 MB/s eta 0:00:01\r\u001b[K     |███████████████▉                | 368 kB 8.4 MB/s eta 0:00:01\r\u001b[K     |████████████████▎               | 378 kB 8.4 MB/s eta 0:00:01\r\u001b[K     |████████████████▊               | 389 kB 8.4 MB/s eta 0:00:01\r\u001b[K     |█████████████████▏              | 399 kB 8.4 MB/s eta 0:00:01\r\u001b[K     |█████████████████▋              | 409 kB 8.4 MB/s eta 0:00:01\r\u001b[K     |██████████████████              | 419 kB 8.4 MB/s eta 0:00:01\r\u001b[K     |██████████████████▌             | 430 kB 8.4 MB/s eta 0:00:01\r\u001b[K     |███████████████████             | 440 kB 8.4 MB/s eta 0:00:01\r\u001b[K     |███████████████████▍            | 450 kB 8.4 MB/s eta 0:00:01\r\u001b[K     |███████████████████▉            | 460 kB 8.4 MB/s eta 0:00:01\r\u001b[K     |████████████████████▎           | 471 kB 8.4 MB/s eta 0:00:01\r\u001b[K     |████████████████████▋           | 481 kB 8.4 MB/s eta 0:00:01\r\u001b[K     |█████████████████████           | 491 kB 8.4 MB/s eta 0:00:01\r\u001b[K     |█████████████████████▌          | 501 kB 8.4 MB/s eta 0:00:01\r\u001b[K     |██████████████████████          | 512 kB 8.4 MB/s eta 0:00:01\r\u001b[K     |██████████████████████▍         | 522 kB 8.4 MB/s eta 0:00:01\r\u001b[K     |██████████████████████▉         | 532 kB 8.4 MB/s eta 0:00:01\r\u001b[K     |███████████████████████▎        | 542 kB 8.4 MB/s eta 0:00:01\r\u001b[K     |███████████████████████▊        | 552 kB 8.4 MB/s eta 0:00:01\r\u001b[K     |████████████████████████▏       | 563 kB 8.4 MB/s eta 0:00:01\r\u001b[K     |████████████████████████▋       | 573 kB 8.4 MB/s eta 0:00:01\r\u001b[K     |█████████████████████████       | 583 kB 8.4 MB/s eta 0:00:01\r\u001b[K     |█████████████████████████▌      | 593 kB 8.4 MB/s eta 0:00:01\r\u001b[K     |██████████████████████████      | 604 kB 8.4 MB/s eta 0:00:01\r\u001b[K     |██████████████████████████▍     | 614 kB 8.4 MB/s eta 0:00:01\r\u001b[K     |██████████████████████████▉     | 624 kB 8.4 MB/s eta 0:00:01\r\u001b[K     |███████████████████████████▎    | 634 kB 8.4 MB/s eta 0:00:01\r\u001b[K     |███████████████████████████▊    | 645 kB 8.4 MB/s eta 0:00:01\r\u001b[K     |████████████████████████████▏   | 655 kB 8.4 MB/s eta 0:00:01\r\u001b[K     |████████████████████████████▋   | 665 kB 8.4 MB/s eta 0:00:01\r\u001b[K     |█████████████████████████████   | 675 kB 8.4 MB/s eta 0:00:01\r\u001b[K     |█████████████████████████████▌  | 686 kB 8.4 MB/s eta 0:00:01\r\u001b[K     |██████████████████████████████  | 696 kB 8.4 MB/s eta 0:00:01\r\u001b[K     |██████████████████████████████▍ | 706 kB 8.4 MB/s eta 0:00:01\r\u001b[K     |██████████████████████████████▊ | 716 kB 8.4 MB/s eta 0:00:01\r\u001b[K     |███████████████████████████████▏| 727 kB 8.4 MB/s eta 0:00:01\r\u001b[K     |███████████████████████████████▋| 737 kB 8.4 MB/s eta 0:00:01\r\u001b[K     |████████████████████████████████| 745 kB 8.4 MB/s \n",
            "\u001b[?25h  Building wheel for pyngrok (setup.py) ... \u001b[?25l\u001b[?25hdone\n"
          ]
        }
      ],
      "source": [
        "!pip install -q pyngrok"
      ]
    },
    {
      "cell_type": "code",
      "source": [
        "!pip install -q streamlit"
      ],
      "metadata": {
        "colab": {
          "base_uri": "https://localhost:8080/"
        },
        "id": "v_-aHNJOZkLX",
        "outputId": "a611dfe6-a9f4-4dcb-de93-88bda5e0605d"
      },
      "execution_count": 2,
      "outputs": [
        {
          "output_type": "stream",
          "name": "stdout",
          "text": [
            "\u001b[K     |████████████████████████████████| 10.1 MB 6.2 MB/s \n",
            "\u001b[K     |████████████████████████████████| 111 kB 48.6 MB/s \n",
            "\u001b[K     |████████████████████████████████| 76 kB 5.6 MB/s \n",
            "\u001b[K     |████████████████████████████████| 181 kB 46.1 MB/s \n",
            "\u001b[K     |████████████████████████████████| 4.3 MB 47.9 MB/s \n",
            "\u001b[K     |████████████████████████████████| 164 kB 72.6 MB/s \n",
            "\u001b[K     |████████████████████████████████| 63 kB 1.9 MB/s \n",
            "\u001b[K     |████████████████████████████████| 131 kB 46.4 MB/s \n",
            "\u001b[K     |████████████████████████████████| 130 kB 49.0 MB/s \n",
            "\u001b[K     |████████████████████████████████| 428 kB 44.5 MB/s \n",
            "\u001b[K     |████████████████████████████████| 793 kB 48.0 MB/s \n",
            "\u001b[K     |████████████████████████████████| 381 kB 61.3 MB/s \n",
            "\u001b[?25h  Building wheel for blinker (setup.py) ... \u001b[?25l\u001b[?25hdone\n",
            "\u001b[31mERROR: pip's dependency resolver does not currently take into account all the packages that are installed. This behaviour is the source of the following dependency conflicts.\n",
            "jupyter-console 5.2.0 requires prompt-toolkit<2.0.0,>=1.0.0, but you have prompt-toolkit 3.0.29 which is incompatible.\n",
            "google-colab 1.0.0 requires ipykernel~=4.10, but you have ipykernel 6.13.0 which is incompatible.\n",
            "google-colab 1.0.0 requires ipython~=5.5.0, but you have ipython 7.33.0 which is incompatible.\n",
            "google-colab 1.0.0 requires tornado~=5.1.0; python_version >= \"3.0\", but you have tornado 6.1 which is incompatible.\u001b[0m\n"
          ]
        }
      ]
    },
    {
      "cell_type": "code",
      "source": [
        "!pip install -q streamlit_ace"
      ],
      "metadata": {
        "colab": {
          "base_uri": "https://localhost:8080/"
        },
        "id": "biKDWAt7Zl86",
        "outputId": "2b4f84ca-c199-4bc3-83db-8a1fffc53250"
      },
      "execution_count": 3,
      "outputs": [
        {
          "output_type": "stream",
          "name": "stdout",
          "text": [
            "\u001b[K     |████████████████████████████████| 3.6 MB 7.5 MB/s \n",
            "\u001b[?25h"
          ]
        }
      ]
    },
    {
      "cell_type": "code",
      "source": [
        "!pip install fuzzywuzzy[speedup]"
      ],
      "metadata": {
        "colab": {
          "base_uri": "https://localhost:8080/"
        },
        "id": "WU2kPr81aomk",
        "outputId": "721bb4fe-2224-4119-ef78-e2b650e029d4"
      },
      "execution_count": 4,
      "outputs": [
        {
          "output_type": "stream",
          "name": "stdout",
          "text": [
            "Collecting fuzzywuzzy[speedup]\n",
            "  Downloading fuzzywuzzy-0.18.0-py2.py3-none-any.whl (18 kB)\n",
            "Collecting python-levenshtein>=0.12\n",
            "  Downloading python-Levenshtein-0.12.2.tar.gz (50 kB)\n",
            "\u001b[?25l\r\u001b[K     |██████▌                         | 10 kB 15.9 MB/s eta 0:00:01\r\u001b[K     |█████████████                   | 20 kB 22.1 MB/s eta 0:00:01\r\u001b[K     |███████████████████▌            | 30 kB 18.8 MB/s eta 0:00:01\r\u001b[K     |██████████████████████████      | 40 kB 7.1 MB/s eta 0:00:01\r\u001b[K     |████████████████████████████████| 50 kB 4.0 MB/s \n",
            "\u001b[?25hRequirement already satisfied: setuptools in /usr/local/lib/python3.7/dist-packages (from python-levenshtein>=0.12->fuzzywuzzy[speedup]) (57.4.0)\n",
            "Building wheels for collected packages: python-levenshtein\n",
            "  Building wheel for python-levenshtein (setup.py) ... \u001b[?25l\u001b[?25hdone\n",
            "  Created wheel for python-levenshtein: filename=python_Levenshtein-0.12.2-cp37-cp37m-linux_x86_64.whl size=149871 sha256=0ef24d813c6d73c848cdf5b40b1b8dc9c3e4c6cb48700e05dccf911acb68c737\n",
            "  Stored in directory: /root/.cache/pip/wheels/05/5f/ca/7c4367734892581bb5ff896f15027a932c551080b2abd3e00d\n",
            "Successfully built python-levenshtein\n",
            "Installing collected packages: python-levenshtein, fuzzywuzzy\n",
            "Successfully installed fuzzywuzzy-0.18.0 python-levenshtein-0.12.2\n"
          ]
        }
      ]
    },
    {
      "cell_type": "code",
      "source": [
        "!streamlit run app.py &>/dev/null&"
      ],
      "metadata": {
        "id": "SlqYpfj0Zn4Z"
      },
      "execution_count": 5,
      "outputs": []
    },
    {
      "cell_type": "code",
      "source": [
        "from pyngrok import ngrok"
      ],
      "metadata": {
        "id": "TpurR4_EZqGA"
      },
      "execution_count": 6,
      "outputs": []
    },
    {
      "cell_type": "code",
      "source": [
        "from fuzzywuzzy import process"
      ],
      "metadata": {
        "id": "sC86Y3RValFT"
      },
      "execution_count": 7,
      "outputs": []
    },
    {
      "cell_type": "code",
      "source": [
        "%%writefile app.py\n",
        "import streamlit as st\n",
        "import re\n",
        "import json\n",
        "import requests as req\n",
        "from fuzzywuzzy import process\n",
        "from fuzzywuzzy import fuzz\n",
        "from pyngrok import ngrok\n",
        "\n",
        "\n",
        "#res = requests.get('https://henricobela.github.io/fra.json')\n",
        "nomes = req.get('https://cspinheiro.github.io/interpol.json')\n",
        "  \n",
        "def main():\n",
        "\n",
        "  html_temp = \"\"\" \n",
        "  <div style =\"background-color:red;padding:13px\"> \n",
        "  <h1 style =\"color:black;text-align:center;\">Imigração para o Iraque</h1> \n",
        "  <h6 style =\"color:white;text-align:center;\">Por favor digite as três letra de identificação do pais</h6>\n",
        "  <h6 style =\"color:white;text-align:center;\">e os numeros do passaporte</h6>\n",
        "  </div> \n",
        "  \"\"\"      \n",
        "  st.markdown(html_temp, unsafe_allow_html = True) \n",
        "  names = st.text_input('Nome do imigrante')\n",
        "  numPassaporte = st.text_input('Passaporte')\n",
        "  \n",
        "  def verificarNome(names):\n",
        "    InterpolList = req.get('https://cspinheiro.github.io/interpol.json')\n",
        "    lista_fuzzy = process.extract(names, InterpolList)\n",
        "    resultado = []\n",
        "    for sublista in lista_fuzzy: \n",
        "        if sublista[1] > 80:\n",
        "          resultado.append(sublista)\n",
        "    if len(resultado) == 0:\n",
        "        return True\n",
        "    return False\n",
        "\n",
        "  res = req.get('https://felps2003.github.io/irq.json')\n",
        "  paises = ['irq','fra']\n",
        "  def verificacaoPassaporte(numPassaporte):\n",
        "    match = re.search('(?i)(\\D{3})', numPassaporte.lower())\n",
        "    api = (match[0])\n",
        "    if api in paises:\n",
        "      x = (api)\n",
        "      dict_api = res.json()[x]\n",
        "      for item in dict_api:\n",
        "          for value in item.values():\n",
        "            if str(numPassaporte) == str(x)+str(value):\n",
        "              return False\n",
        "      return True\n",
        "\n",
        "      \n",
        "  def verificacao(names,numPassaporte):\n",
        "    imigrante = verificarNome(names)\n",
        "    passaporte = verificacaoPassaporte(numPassaporte)\n",
        "    if passaporte == False or imigrante == False:\n",
        "      st.error('Prenda o individuo, possivel terrorista')\n",
        "    elif passaporte == True and imigrante == True:\n",
        "      st.success('Imigração permitida')\n",
        "          \n",
        "  if st.button(\"Verificar\"):\n",
        "    verificacao(names,numPassaporte)\n",
        "\n",
        "if __name__=='__main__': \n",
        "    main()  "
      ],
      "metadata": {
        "colab": {
          "base_uri": "https://localhost:8080/"
        },
        "id": "XmJOdd3lZsuP",
        "outputId": "f5e38a21-4cdf-4ca7-b48b-cccea14ab7c5"
      },
      "execution_count": 14,
      "outputs": [
        {
          "output_type": "stream",
          "name": "stdout",
          "text": [
            "Overwriting app.py\n"
          ]
        }
      ]
    },
    {
      "cell_type": "code",
      "source": [
        "!streamlit run app.py & npx localtunnel --port 8501"
      ],
      "metadata": {
        "colab": {
          "base_uri": "https://localhost:8080/"
        },
        "id": "pOjUYdffZ5gn",
        "outputId": "bb66d3ab-3ac6-4807-a3aa-5d5f1ae9307b"
      },
      "execution_count": null,
      "outputs": [
        {
          "output_type": "stream",
          "name": "stdout",
          "text": [
            "2022-05-03 04:35:33.413 INFO    numexpr.utils: NumExpr defaulting to 2 threads.\n",
            "\u001b[0m\n",
            "\u001b[34m\u001b[1m  You can now view your Streamlit app in your browser.\u001b[0m\n",
            "\u001b[0m\n",
            "\u001b[34m  Network URL: \u001b[0m\u001b[1mhttp://172.28.0.2:8501\u001b[0m\n",
            "\u001b[34m  External URL: \u001b[0m\u001b[1mhttp://34.125.193.20:8501\u001b[0m\n",
            "\u001b[0m\n",
            "\u001b[K\u001b[?25hnpx: installed 22 in 3.021s\n",
            "your url is: https://afraid-pugs-hide-34-125-193-20.loca.lt\n"
          ]
        }
      ]
    }
  ]
}