{
  "nbformat": 4,
  "nbformat_minor": 0,
  "metadata": {
    "colab": {
      "name": "CheckPoint_CyberV2.ipynb",
      "provenance": [],
      "authorship_tag": "ABX9TyOkGfU8sHNQE+svMA6j/3eG",
      "include_colab_link": true
    },
    "kernelspec": {
      "name": "python3",
      "display_name": "Python 3"
    },
    "language_info": {
      "name": "python"
    }
  },
  "cells": [
    {
      "cell_type": "markdown",
      "metadata": {
        "id": "view-in-github",
        "colab_type": "text"
      },
      "source": [
        "<a href=\"https://colab.research.google.com/github/felps2003/checkPoint_Cyber/blob/main/CheckPoint_CyberV2.ipynb\" target=\"_parent\"><img src=\"https://colab.research.google.com/assets/colab-badge.svg\" alt=\"Open In Colab\"/></a>"
      ]
    },
    {
      "cell_type": "code",
      "execution_count": 5,
      "metadata": {
        "id": "l6jCxOwIkz56"
      },
      "outputs": [],
      "source": [
        "!pip install -q streamlit"
      ]
    },
    {
      "cell_type": "code",
      "source": [
        "!pip install -q streamlit-ace"
      ],
      "metadata": {
        "id": "TvCtkgUbLuYk"
      },
      "execution_count": 6,
      "outputs": []
    },
    {
      "cell_type": "code",
      "source": [
        "!pip install -q pyngrok"
      ],
      "metadata": {
        "id": "rvcaw8iEL2S-"
      },
      "execution_count": 7,
      "outputs": []
    },
    {
      "cell_type": "code",
      "source": [
        "!pip install -q fuzzywuzzy[speedup]"
      ],
      "metadata": {
        "colab": {
          "base_uri": "https://localhost:8080/",
          "height": 0
        },
        "id": "LTYxwJ8rL5eG",
        "outputId": "11782a70-d05c-40ca-9baf-aad3ef5da4ee"
      },
      "execution_count": 8,
      "outputs": [
        {
          "output_type": "stream",
          "name": "stdout",
          "text": [
            "\u001b[?25l\r\u001b[K     |██████▌                         | 10 kB 20.6 MB/s eta 0:00:01\r\u001b[K     |█████████████                   | 20 kB 26.0 MB/s eta 0:00:01\r\u001b[K     |███████████████████▌            | 30 kB 23.4 MB/s eta 0:00:01\r\u001b[K     |██████████████████████████      | 40 kB 6.8 MB/s eta 0:00:01\r\u001b[K     |████████████████████████████████| 50 kB 3.6 MB/s \n",
            "\u001b[?25h  Building wheel for python-levenshtein (setup.py) ... \u001b[?25l\u001b[?25hdone\n"
          ]
        }
      ]
    },
    {
      "cell_type": "code",
      "source": [
        "from fuzzywuzzy import process"
      ],
      "metadata": {
        "id": "MsHfcSIBYI1R"
      },
      "execution_count": 21,
      "outputs": []
    },
    {
      "cell_type": "code",
      "source": [
        "!streamlit run app.py &>/dev/null&"
      ],
      "metadata": {
        "id": "ioH_XknOlBY6"
      },
      "execution_count": 9,
      "outputs": []
    },
    {
      "cell_type": "code",
      "source": [
        "%%writefile app.py\n",
        "import streamlit as st\n",
        "import re\n",
        "import json\n",
        "import requests as req\n",
        "from fuzzywuzzy import process\n",
        "from fuzzywuzzy import fuzz\n",
        "from pyngrok import ngrok\n",
        "\n",
        "res = req.get('https://felps2003.github.io/irq.json')\n",
        "#res = requests.get('https://henricobela.github.io/fra.json')\n",
        "nomes = req.get('https://cspinheiro.github.io/interpol.json')\n",
        "  \n",
        "def verificarNome(names):\n",
        "  nome = nomes.json()['interpol']\n",
        "  lista_fuzzy = []\n",
        "  extraidos = process.extract(names, nome)\n",
        "\n",
        "  for i in extraidos:\n",
        "    if i[1] >= 74:\n",
        "      lista_fuzzy.append(i)\n",
        "    if len(lista_fuzzy) == 0:\n",
        "      return 'permitido'\n",
        "    return 'nao_permitido'\n",
        "\n",
        "def verificacaoPassaporte(numPassaporte):\n",
        "  match = re.search('(?i)(\\D{3})', numPassaporte.lower())\n",
        "  api = str(match[0])\n",
        "  paises = ['irq','fra']\n",
        "  if api in paises:\n",
        "    x = str(api)\n",
        "    dict_api = res.json()[x]\n",
        "    for item in dict_api:\n",
        "      for value in item.values():\n",
        "        if str(numPassaporte) == str(x)+str(value):\n",
        "          return 'invalido'\n",
        "        return 'valido'\n",
        "\n",
        "  \n",
        "def main():\n",
        "\n",
        "  html_temp = \"\"\" <div style =\"background-color:red;padding:15px\">\n",
        "                      <h1 style = \"color:black;text-align:center;\">Verificador Imigração Internacional</h1>\n",
        "                      <h6 style = \"color:white;text-align:center;\">Por favor insira as 3 letras principais do pais, mais os numeros do passaporte</h6>\n",
        "                  </dic>\n",
        "              \"\"\"\n",
        "\n",
        "  st.markdown(html_temp, unsafe_allow_html = True)\n",
        "\n",
        "  names = st.text_input('nome da pessoa: ')\n",
        "  numPassaporte = st.text_input('Passaporte: ')\n",
        "  if st.button(\"Verificar\"):\n",
        "    def verificacao(names,numPassaporte):\n",
        "     imigrante = verificarNome(names)\n",
        "     passaporte = verificacaoPassaporte(numPassaporte)\n",
        "\n",
        "     if passaporte == 'invalido' or imigrante == 'nao_permitido':\n",
        "       st.error('Prenda o individuo')\n",
        "       return\n",
        "     st.success('Pode entrar no país')\n",
        "     return\n",
        "\n",
        "\n",
        "\n",
        "if __name__=='__main__':\n",
        "    main()"
      ],
      "metadata": {
        "colab": {
          "base_uri": "https://localhost:8080/"
        },
        "id": "sMc7jqnHlF2h",
        "outputId": "5b0d57d3-ef03-41f4-b7cd-4f52c525081f"
      },
      "execution_count": 19,
      "outputs": [
        {
          "output_type": "stream",
          "name": "stdout",
          "text": [
            "Overwriting app.py\n"
          ]
        }
      ]
    },
    {
      "cell_type": "code",
      "source": [
        "!streamlit run app.py & npx localtunnel --port 8501"
      ],
      "metadata": {
        "colab": {
          "base_uri": "https://localhost:8080/"
        },
        "id": "X-gPFHY4mwfS",
        "outputId": "646b57bb-0c70-4b02-8dbb-60ccef437413"
      },
      "execution_count": 20,
      "outputs": [
        {
          "output_type": "stream",
          "name": "stdout",
          "text": [
            "2022-05-03 00:42:13.695 INFO    numexpr.utils: NumExpr defaulting to 2 threads.\n",
            "\u001b[K\u001b[?25hnpx: installed 22 in 2.481s\n",
            "your url is: https://forty-crabs-ask-34-105-27-91.loca.lt\n",
            "\u001b[0m\n",
            "\u001b[34m\u001b[1m  You can now view your Streamlit app in your browser.\u001b[0m\n",
            "\u001b[0m\n",
            "\u001b[34m  Network URL: \u001b[0m\u001b[1mhttp://172.28.0.2:8501\u001b[0m\n",
            "\u001b[34m  External URL: \u001b[0m\u001b[1mhttp://34.105.27.91:8501\u001b[0m\n",
            "\u001b[0m\n",
            "\u001b[34m  Stopping...\u001b[0m\n",
            "^C\n"
          ]
        }
      ]
    }
  ]
}