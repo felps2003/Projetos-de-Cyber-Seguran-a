{
  "cells": [
    {
      "cell_type": "markdown",
      "metadata": {
        "id": "view-in-github",
        "colab_type": "text"
      },
      "source": [
        "<a href=\"https://colab.research.google.com/github/felps2003/checkPoint_Cyber/blob/main/CheckPoint_CyberV1.ipynb\" target=\"_parent\"><img src=\"https://colab.research.google.com/assets/colab-badge.svg\" alt=\"Open In Colab\"/></a>"
      ]
    },
    {
      "cell_type": "code",
      "execution_count": 1,
      "metadata": {
        "id": "HL_i4jC6fh47",
        "colab": {
          "base_uri": "https://localhost:8080/"
        },
        "outputId": "835844a0-6d8c-4de1-d24f-a481033c523d"
      },
      "outputs": [
        {
          "output_type": "stream",
          "name": "stdout",
          "text": [
            "\u001b[?25l\r\u001b[K     |▍                               | 10 kB 22.4 MB/s eta 0:00:01\r\u001b[K     |▉                               | 20 kB 12.8 MB/s eta 0:00:01\r\u001b[K     |█▎                              | 30 kB 9.6 MB/s eta 0:00:01\r\u001b[K     |█▊                              | 40 kB 8.4 MB/s eta 0:00:01\r\u001b[K     |██▏                             | 51 kB 4.7 MB/s eta 0:00:01\r\u001b[K     |██▋                             | 61 kB 5.5 MB/s eta 0:00:01\r\u001b[K     |███                             | 71 kB 5.4 MB/s eta 0:00:01\r\u001b[K     |███▌                            | 81 kB 5.3 MB/s eta 0:00:01\r\u001b[K     |████                            | 92 kB 5.9 MB/s eta 0:00:01\r\u001b[K     |████▍                           | 102 kB 5.2 MB/s eta 0:00:01\r\u001b[K     |████▉                           | 112 kB 5.2 MB/s eta 0:00:01\r\u001b[K     |█████▎                          | 122 kB 5.2 MB/s eta 0:00:01\r\u001b[K     |█████▊                          | 133 kB 5.2 MB/s eta 0:00:01\r\u001b[K     |██████▏                         | 143 kB 5.2 MB/s eta 0:00:01\r\u001b[K     |██████▋                         | 153 kB 5.2 MB/s eta 0:00:01\r\u001b[K     |███████                         | 163 kB 5.2 MB/s eta 0:00:01\r\u001b[K     |███████▌                        | 174 kB 5.2 MB/s eta 0:00:01\r\u001b[K     |████████                        | 184 kB 5.2 MB/s eta 0:00:01\r\u001b[K     |████████▍                       | 194 kB 5.2 MB/s eta 0:00:01\r\u001b[K     |████████▉                       | 204 kB 5.2 MB/s eta 0:00:01\r\u001b[K     |█████████▎                      | 215 kB 5.2 MB/s eta 0:00:01\r\u001b[K     |█████████▊                      | 225 kB 5.2 MB/s eta 0:00:01\r\u001b[K     |██████████▏                     | 235 kB 5.2 MB/s eta 0:00:01\r\u001b[K     |██████████▌                     | 245 kB 5.2 MB/s eta 0:00:01\r\u001b[K     |███████████                     | 256 kB 5.2 MB/s eta 0:00:01\r\u001b[K     |███████████▍                    | 266 kB 5.2 MB/s eta 0:00:01\r\u001b[K     |███████████▉                    | 276 kB 5.2 MB/s eta 0:00:01\r\u001b[K     |████████████▎                   | 286 kB 5.2 MB/s eta 0:00:01\r\u001b[K     |████████████▊                   | 296 kB 5.2 MB/s eta 0:00:01\r\u001b[K     |█████████████▏                  | 307 kB 5.2 MB/s eta 0:00:01\r\u001b[K     |█████████████▋                  | 317 kB 5.2 MB/s eta 0:00:01\r\u001b[K     |██████████████                  | 327 kB 5.2 MB/s eta 0:00:01\r\u001b[K     |██████████████▌                 | 337 kB 5.2 MB/s eta 0:00:01\r\u001b[K     |███████████████                 | 348 kB 5.2 MB/s eta 0:00:01\r\u001b[K     |███████████████▍                | 358 kB 5.2 MB/s eta 0:00:01\r\u001b[K     |███████████████▉                | 368 kB 5.2 MB/s eta 0:00:01\r\u001b[K     |████████████████▎               | 378 kB 5.2 MB/s eta 0:00:01\r\u001b[K     |████████████████▊               | 389 kB 5.2 MB/s eta 0:00:01\r\u001b[K     |█████████████████▏              | 399 kB 5.2 MB/s eta 0:00:01\r\u001b[K     |█████████████████▋              | 409 kB 5.2 MB/s eta 0:00:01\r\u001b[K     |██████████████████              | 419 kB 5.2 MB/s eta 0:00:01\r\u001b[K     |██████████████████▌             | 430 kB 5.2 MB/s eta 0:00:01\r\u001b[K     |███████████████████             | 440 kB 5.2 MB/s eta 0:00:01\r\u001b[K     |███████████████████▍            | 450 kB 5.2 MB/s eta 0:00:01\r\u001b[K     |███████████████████▉            | 460 kB 5.2 MB/s eta 0:00:01\r\u001b[K     |████████████████████▎           | 471 kB 5.2 MB/s eta 0:00:01\r\u001b[K     |████████████████████▋           | 481 kB 5.2 MB/s eta 0:00:01\r\u001b[K     |█████████████████████           | 491 kB 5.2 MB/s eta 0:00:01\r\u001b[K     |█████████████████████▌          | 501 kB 5.2 MB/s eta 0:00:01\r\u001b[K     |██████████████████████          | 512 kB 5.2 MB/s eta 0:00:01\r\u001b[K     |██████████████████████▍         | 522 kB 5.2 MB/s eta 0:00:01\r\u001b[K     |██████████████████████▉         | 532 kB 5.2 MB/s eta 0:00:01\r\u001b[K     |███████████████████████▎        | 542 kB 5.2 MB/s eta 0:00:01\r\u001b[K     |███████████████████████▊        | 552 kB 5.2 MB/s eta 0:00:01\r\u001b[K     |████████████████████████▏       | 563 kB 5.2 MB/s eta 0:00:01\r\u001b[K     |████████████████████████▋       | 573 kB 5.2 MB/s eta 0:00:01\r\u001b[K     |█████████████████████████       | 583 kB 5.2 MB/s eta 0:00:01\r\u001b[K     |█████████████████████████▌      | 593 kB 5.2 MB/s eta 0:00:01\r\u001b[K     |██████████████████████████      | 604 kB 5.2 MB/s eta 0:00:01\r\u001b[K     |██████████████████████████▍     | 614 kB 5.2 MB/s eta 0:00:01\r\u001b[K     |██████████████████████████▉     | 624 kB 5.2 MB/s eta 0:00:01\r\u001b[K     |███████████████████████████▎    | 634 kB 5.2 MB/s eta 0:00:01\r\u001b[K     |███████████████████████████▊    | 645 kB 5.2 MB/s eta 0:00:01\r\u001b[K     |████████████████████████████▏   | 655 kB 5.2 MB/s eta 0:00:01\r\u001b[K     |████████████████████████████▋   | 665 kB 5.2 MB/s eta 0:00:01\r\u001b[K     |█████████████████████████████   | 675 kB 5.2 MB/s eta 0:00:01\r\u001b[K     |█████████████████████████████▌  | 686 kB 5.2 MB/s eta 0:00:01\r\u001b[K     |██████████████████████████████  | 696 kB 5.2 MB/s eta 0:00:01\r\u001b[K     |██████████████████████████████▍ | 706 kB 5.2 MB/s eta 0:00:01\r\u001b[K     |██████████████████████████████▊ | 716 kB 5.2 MB/s eta 0:00:01\r\u001b[K     |███████████████████████████████▏| 727 kB 5.2 MB/s eta 0:00:01\r\u001b[K     |███████████████████████████████▋| 737 kB 5.2 MB/s eta 0:00:01\r\u001b[K     |████████████████████████████████| 745 kB 5.2 MB/s \n",
            "\u001b[?25h  Building wheel for pyngrok (setup.py) ... \u001b[?25l\u001b[?25hdone\n",
            "\u001b[K     |████████████████████████████████| 10.1 MB 5.3 MB/s \n",
            "\u001b[K     |████████████████████████████████| 4.3 MB 42.0 MB/s \n",
            "\u001b[K     |████████████████████████████████| 164 kB 57.9 MB/s \n",
            "\u001b[K     |████████████████████████████████| 111 kB 30.1 MB/s \n",
            "\u001b[K     |████████████████████████████████| 181 kB 54.1 MB/s \n",
            "\u001b[K     |████████████████████████████████| 76 kB 2.8 MB/s \n",
            "\u001b[K     |████████████████████████████████| 63 kB 471 kB/s \n",
            "\u001b[K     |████████████████████████████████| 131 kB 44.7 MB/s \n",
            "\u001b[K     |████████████████████████████████| 130 kB 12.2 MB/s \n",
            "\u001b[K     |████████████████████████████████| 793 kB 56.0 MB/s \n",
            "\u001b[K     |████████████████████████████████| 428 kB 51.7 MB/s \n",
            "\u001b[K     |████████████████████████████████| 381 kB 49.9 MB/s \n",
            "\u001b[?25h  Building wheel for blinker (setup.py) ... \u001b[?25l\u001b[?25hdone\n",
            "\u001b[31mERROR: pip's dependency resolver does not currently take into account all the packages that are installed. This behaviour is the source of the following dependency conflicts.\n",
            "jupyter-console 5.2.0 requires prompt-toolkit<2.0.0,>=1.0.0, but you have prompt-toolkit 3.0.29 which is incompatible.\n",
            "google-colab 1.0.0 requires ipykernel~=4.10, but you have ipykernel 6.13.0 which is incompatible.\n",
            "google-colab 1.0.0 requires ipython~=5.5.0, but you have ipython 7.33.0 which is incompatible.\n",
            "google-colab 1.0.0 requires tornado~=5.1.0; python_version >= \"3.0\", but you have tornado 6.1 which is incompatible.\u001b[0m\n",
            "\u001b[K     |████████████████████████████████| 3.6 MB 5.0 MB/s \n",
            "\u001b[?25h"
          ]
        }
      ],
      "source": [
        "!pip install -q pyngrok\n",
        "!pip install -q streamlit\n",
        "!pip install -q streamlit_ace\n"
      ]
    },
    {
      "cell_type": "code",
      "execution_count": 2,
      "metadata": {
        "id": "oYTHbkNrfuHG"
      },
      "outputs": [],
      "source": [
        "\n",
        "import json\n",
        "from pyngrok import ngrok"
      ]
    },
    {
      "cell_type": "code",
      "execution_count": 3,
      "metadata": {
        "id": "VNOxGVGEkfao"
      },
      "outputs": [],
      "source": [
        "!streamlit run app.py &>/dev/null&"
      ]
    },
    {
      "cell_type": "code",
      "execution_count": 4,
      "metadata": {
        "colab": {
          "base_uri": "https://localhost:8080/"
        },
        "id": "j4CitYINf7WB",
        "outputId": "90459c29-e4cc-4de4-db87-10e9269b6241"
      },
      "outputs": [
        {
          "output_type": "stream",
          "name": "stdout",
          "text": [
            "Writing app.py\n"
          ]
        }
      ],
      "source": [
        "%%writefile app.py\n",
        "import streamlit as st\n",
        "import re\n",
        "import requests \n",
        "def main():\n",
        "    html_temp = \"\"\" <div style =\"background-color:red;padding:13px\">\n",
        "                      <h1 style = \"color:white;text-align:center;\">Verificador Imigração</h1>\n",
        "                      <h6 style = \"color:black;text-align:center;\">Por favor digite as 3 letras do pais e o numero do passaporte\"</h6>\n",
        "                    </div>\n",
        "                \"\"\"\n",
        "\n",
        "    st.markdown(html_temp, unsafe_allow_html = True)\n",
        "\n",
        "    numPassaporte = st.text_input('Passaporte')\n",
        "\n",
        "\n",
        "    if st.button(\"Verificar\"):\n",
        "      res = requests.get('https://felps2003.github.io/irq.json')\n",
        "      #res = requests.get('https://henricobela.github.io/fra.json')\n",
        "      match = re.search('(?i)(\\D{3})', numPassaporte.lower())\n",
        "      api = str(match[0])\n",
        "      paises = ['irq','fra']\n",
        "      if api in paises:\n",
        "        x = str(api)\n",
        "        dict_api = res.json()[x]\n",
        "        for item in dict_api:\n",
        "          for value in item.values():\n",
        "            if str(numPassaporte) == str(x)+str(value):\n",
        "\n",
        "              st.error('Não pode entrar no país') \n",
        "          st.success('Pode entrar no país')\n",
        "\n",
        "     else:\n",
        "       st.warning(\"Esse pais não consta na base de dados\")      \n",
        "\n",
        "if __name__=='__main__':\n",
        "    main()"
      ]
    },
    {
      "cell_type": "code",
      "execution_count": 5,
      "metadata": {
        "colab": {
          "base_uri": "https://localhost:8080/"
        },
        "id": "H6-_7Ufdiq_H",
        "outputId": "7f2ec932-46f1-43cd-f43c-30462e0d53a6"
      },
      "outputs": [
        {
          "output_type": "stream",
          "name": "stdout",
          "text": [
            "2022-05-02 20:49:57.878 INFO    numexpr.utils: NumExpr defaulting to 2 threads.\n",
            "\u001b[0m\n",
            "\u001b[34m\u001b[1m  You can now view your Streamlit app in your browser.\u001b[0m\n",
            "\u001b[0m\n",
            "\u001b[34m  Network URL: \u001b[0m\u001b[1mhttp://172.28.0.2:8501\u001b[0m\n",
            "\u001b[34m  External URL: \u001b[0m\u001b[1mhttp://34.75.81.192:8501\u001b[0m\n",
            "\u001b[0m\n",
            "\u001b[K\u001b[?25hnpx: installed 22 in 4.285s\n",
            "your url is: https://vast-paws-shake-34-75-81-192.loca.lt\n",
            "2022-05-02 20:51:33.637 Traceback (most recent call last):\n",
            "  File \"/usr/local/lib/python3.7/dist-packages/streamlit/scriptrunner/script_runner.py\", line 443, in _run_script\n",
            "    exec(code, module.__dict__)\n",
            "  File \"/content/app.py\", line 36, in <module>\n",
            "    main()\n",
            "  File \"/content/app.py\", line 24, in main\n",
            "    dict_api = res.json()[x]\n",
            "KeyError: 'fra'\n",
            "\n",
            "\u001b[34m  Stopping...\u001b[0m\n",
            "^C\n"
          ]
        }
      ],
      "source": [
        " !streamlit run app.py & npx localtunnel --port 8501"
      ]
    }
  ],
  "metadata": {
    "colab": {
      "name": "CheckPoint_CyberV1.ipynb",
      "provenance": [],
      "authorship_tag": "ABX9TyPS58vtFb+ah5AupWSjLKai",
      "include_colab_link": true
    },
    "kernelspec": {
      "display_name": "Python 3",
      "name": "python3"
    },
    "language_info": {
      "name": "python"
    }
  },
  "nbformat": 4,
  "nbformat_minor": 0
}